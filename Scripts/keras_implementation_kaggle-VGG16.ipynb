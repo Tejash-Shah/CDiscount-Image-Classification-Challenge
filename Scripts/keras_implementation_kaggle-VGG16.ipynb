{
 "cells": [
  {
   "cell_type": "code",
   "execution_count": 2,
   "metadata": {
    "collapsed": true
   },
   "outputs": [],
   "source": [
    "import numpy as np # linear algebra\n",
    "import pandas as pd # data processing, CSV file I/O (e.g. pd.read_csv)\n",
    "from io import BytesIO\n",
    "import cv2\n",
    "import bson\n",
    "from skimage.data import imread\n",
    "import matplotlib.pyplot as plt\n",
    "import keras\n",
    "from PIL import Image\n",
    "import io, bson, multiprocessing\n",
    "import os\n",
    "from keras import applications\n",
    "from keras.preprocessing.image import ImageDataGenerator\n",
    "from keras import optimizers\n",
    "from keras.models import Sequential\n",
    "from keras.layers import Dropout, Flatten, Dense"
   ]
  },
  {
   "cell_type": "code",
   "execution_count": 3,
   "metadata": {
    "collapsed": true
   },
   "outputs": [],
   "source": [
    "def get_the_data(path):\n",
    "    data = bson.decode_file_iter(open(path, 'rb'))\n",
    "    images=[]\n",
    "    category=[]\n",
    "    for c, d in enumerate(data):\n",
    "        product_id = d['_id']\n",
    "        category_id = d['category_id'] \n",
    "        for e, pic in enumerate(d['imgs']):\n",
    "            category.append(category_id)\n",
    "            im=pic['picture']\n",
    "            images.append(Image.open(io.BytesIO(im)))\n",
    "        if(len(set(category))==860):\n",
    "            break\n",
    "    return category, images"
   ]
  },
  {
   "cell_type": "code",
   "execution_count": 4,
   "metadata": {
    "collapsed": true
   },
   "outputs": [],
   "source": [
    "product_category_train,image_train=get_the_data('E:\\\\kaggle\\\\train.bson')"
   ]
  },
  {
   "cell_type": "code",
   "execution_count": 5,
   "metadata": {
    "collapsed": true
   },
   "outputs": [],
   "source": [
    "y, rev_labels = pd.factorize(product_category_train)"
   ]
  },
  {
   "cell_type": "code",
   "execution_count": 6,
   "metadata": {},
   "outputs": [
    {
     "data": {
      "text/plain": [
       "9998"
      ]
     },
     "execution_count": 6,
     "metadata": {},
     "output_type": "execute_result"
    }
   ],
   "source": [
    "len(y)"
   ]
  },
  {
   "cell_type": "code",
   "execution_count": 7,
   "metadata": {
    "collapsed": true
   },
   "outputs": [],
   "source": [
    "from sklearn.utils import shuffle\n",
    "im_train,lab_train=shuffle(image_train,y)\n",
    "test_im=im_train[9980:]\n",
    "test_lab=lab_train[9980:]\n",
    "image_train=im_train[:9980]\n",
    "label_train=lab_train[:9980]"
   ]
  },
  {
   "cell_type": "code",
   "execution_count": 8,
   "metadata": {
    "collapsed": true
   },
   "outputs": [],
   "source": [
    "len_train = len(image_train)\n",
    "len_test = len(test_im)"
   ]
  },
  {
   "cell_type": "code",
   "execution_count": null,
   "metadata": {
    "collapsed": true
   },
   "outputs": [],
   "source": [
    "len_cat = len(image_train)\n",
    "#\n",
    "cnt = 0\n",
    "flag=0\n",
    "for i in range(len_cat):\n",
    "        if i == 0:\n",
    "            n = label_train[i]\n",
    "            #print('cat', n)\n",
    "            dir_ = 'C:\\\\Users\\\\saish\\\\Documents\\\\EE258\\\\test\\\\train'\n",
    "            pathname = os.path.join(dir_, str(n))\n",
    "            if not os.path.exists(pathname):\n",
    "                  os.makedirs(pathname)\n",
    "            os.chdir(pathname)\n",
    "            d = image_train[i]\n",
    "            d.save(\"{0}.jpg\".format(str(cnt)))\n",
    "        if i != 0:      \n",
    "            if((label_train[i])!=(label_train[i-1])):\n",
    "                n = label_train[i]\n",
    "                #print('cat', n)\n",
    "                dir_ = 'C:\\\\Users\\\\saish\\\\Documents\\\\EE258\\\\test\\\\train'\n",
    "                pathname = os.path.join(dir_, str(n))  \n",
    "                if not os.path.exists(pathname):\n",
    "                      os.makedirs(pathname)\n",
    "                os.chdir(pathname)\n",
    "                d = image_train[i]\n",
    "                d.save(\"{0}.jpg\".format(str(cnt)))\n",
    "            if((label_train[i])==(label_train[i-1])):\n",
    "                  n = label_train[i]\n",
    "                  #print('cat', n)\n",
    "                  d = image_train[i]\n",
    "                  d.save(\"{0}.jpg\".format(str(cnt)))\n",
    "                \n",
    "        cnt +=1"
   ]
  },
  {
   "cell_type": "code",
   "execution_count": null,
   "metadata": {
    "collapsed": true
   },
   "outputs": [],
   "source": [
    "len_cat = len(test_im)\n",
    "#\n",
    "cnt = 0\n",
    "flag=0\n",
    "for i in range(len_cat):\n",
    "        if i == 0:\n",
    "            n = test_lab[i]\n",
    "            #print('cat', n)\n",
    "            dir_ = 'C:\\\\Users\\\\saish\\\\Documents\\\\EE258\\\\test\\\\test'\n",
    "            pathname = os.path.join(dir_, str(n))\n",
    "            if not os.path.exists(pathname):\n",
    "                  os.makedirs(pathname)\n",
    "            os.chdir(pathname)\n",
    "            d = test_im[i]\n",
    "            d.save(\"{0}.jpg\".format(str(cnt)))\n",
    "        if i != 0:      \n",
    "            if((test_lab[i])!=(test_lab[i-1])):\n",
    "                n = test_lab[i]\n",
    "                #print('cat', n)\n",
    "                dir_ = 'C:\\\\Users\\\\saish\\\\Documents\\\\EE258\\\\test\\\\test'\n",
    "                pathname = os.path.join(dir_, str(n))  \n",
    "                if not os.path.exists(pathname):\n",
    "                      os.makedirs(pathname)\n",
    "                os.chdir(pathname)\n",
    "                d = test_im[i]\n",
    "                d.save(\"{0}.jpg\".format(str(cnt)))\n",
    "            if((test_lab[i])==(test_lab[i-1])):\n",
    "                  n = test_lab[i]\n",
    "                  #print('cat', n)\n",
    "                  d = test_im[i]\n",
    "                  d.save(\"{0}.jpg\".format(str(cnt)))\n",
    "                \n",
    "        cnt +=1"
   ]
  },
  {
   "cell_type": "markdown",
   "metadata": {},
   "source": [
    "# KERAS VGG16"
   ]
  },
  {
   "cell_type": "code",
   "execution_count": null,
   "metadata": {
    "collapsed": true
   },
   "outputs": [],
   "source": [
    "img_width, img_height = 180, 180\n",
    "top_model_weights_path = 'bottleneck_fc_model.h5'\n",
    "train_data_dir = 'C:\\\\Users\\\\saish\\\\Documents\\\\EE258\\\\test\\\\train'\n",
    "validation_data_dir = 'C:\\\\Users\\\\saish\\\\Documents\\\\EE258\\\\test\\\\test'\n",
    "nb_train_samples = len_train\n",
    "nb_validation_samples = len_test\n",
    "epochs = 50\n",
    "batch_size = 1"
   ]
  },
  {
   "cell_type": "code",
   "execution_count": null,
   "metadata": {
    "collapsed": true
   },
   "outputs": [],
   "source": [
    "def save_bottlebeck_features():\n",
    "    datagen = ImageDataGenerator(rescale=1. / 255)\n",
    "\n",
    "    # build the VGG16 network\n",
    "    model = applications.VGG16(include_top=False, weights='imagenet')\n",
    "\n",
    "    generator = datagen.flow_from_directory(\n",
    "        train_data_dir,\n",
    "        target_size=(img_width, img_height),\n",
    "        batch_size=batch_size,\n",
    "        class_mode=None,\n",
    "        shuffle=False)\n",
    "    bottleneck_features_train = model.predict_generator(\n",
    "        generator, nb_train_samples // batch_size)\n",
    "    np.save(open('C:\\\\Users\\\\saish\\\\Documents\\\\EE258\\\\bottleneck_features_train.npy', 'wb'),\n",
    "            bottleneck_features_train)\n",
    "\n",
    "    generator = datagen.flow_from_directory(\n",
    "        validation_data_dir,\n",
    "        target_size=(img_width, img_height),\n",
    "        batch_size=batch_size,\n",
    "        class_mode=None,\n",
    "        shuffle=False)\n",
    "    bottleneck_features_validation = model.predict_generator(\n",
    "        generator, nb_validation_samples // batch_size)\n",
    "    np.save(open('C:\\\\Users\\\\saish\\\\Documents\\\\EE258\\\\bottleneck_features_validation.npy', 'wb'),\n",
    "            bottleneck_features_validation)"
   ]
  },
  {
   "cell_type": "code",
   "execution_count": null,
   "metadata": {
    "collapsed": true
   },
   "outputs": [],
   "source": [
    "train_labels = np.array([0] * 1000 + [1] * 1000)\n",
    "a = np.asarray(label_train)\n",
    "a.shape"
   ]
  },
  {
   "cell_type": "code",
   "execution_count": null,
   "metadata": {
    "collapsed": true
   },
   "outputs": [],
   "source": [
    "save_bottlebeck_features()"
   ]
  },
  {
   "cell_type": "markdown",
   "metadata": {},
   "source": [
    "# Freezing model"
   ]
  },
  {
   "cell_type": "code",
   "execution_count": null,
   "metadata": {
    "collapsed": true
   },
   "outputs": [],
   "source": [
    "#def train_top_model():\n",
    "train_data = np.load(open('C:\\\\Users\\\\saish\\\\Documents\\\\EE258\\\\vgg16\\\\bottleneck_features_train.npy', 'rb'))\n",
    "train_labels = np.array(label_train)\n",
    "\n",
    "\n",
    "validation_data = np.load(open('C:\\\\Users\\\\saish\\\\Documents\\\\EE258\\\\vgg16\\\\bottleneck_features_validation.npy', 'rb'))\n",
    "validation_labels = np.array(test_lab)\n",
    "    \n",
    "\n",
    "model = Sequential()\n",
    "model.add(Flatten(input_shape=train_data.shape[1:]))\n",
    "model.add(Dense(256, activation='relu'))\n",
    "model.add(Dropout(0.1))\n",
    "model.add(Dense(len(rev_labels), activation='softmax'))\n",
    "\n",
    "model.compile(optimizer='rmsprop',loss='sparse_categorical_crossentropy', metrics=['accuracy'])\n",
    "\n",
    "model.fit(train_data,train_labels,validation_split=0.2,epochs=5,batch_size=1)\n",
    "    \n",
    "model.save_weights(top_model_weights_path)\n"
   ]
  },
  {
   "cell_type": "markdown",
   "metadata": {},
   "source": [
    "# Experimenting with parameters"
   ]
  },
  {
   "cell_type": "code",
   "execution_count": 10,
   "metadata": {
    "collapsed": true
   },
   "outputs": [],
   "source": [
    "#def train_top_model():\n",
    "train_data = np.load(open('C:\\\\Users\\\\saish\\\\Documents\\\\EE258\\\\vgg16\\\\bottleneck_features_train.npy', 'rb'))\n",
    "train_labels = np.array(label_train)\n",
    "\n",
    "\n",
    "validation_data = np.load(open('C:\\\\Users\\\\saish\\\\Documents\\\\EE258\\\\vgg16\\\\bottleneck_features_validation.npy', 'rb'))\n",
    "validation_labels = np.array(test_lab)\n",
    "    \n",
    "\n",
    "model = Sequential()\n",
    "model.add(Flatten(input_shape=train_data.shape[1:]))\n",
    "model.add(Dense(256, activation='relu'))\n",
    "model.add(Dropout(0.5))\n",
    "model.add(Dense(len(rev_labels), activation='softmax'))\n",
    "\n",
    "model.compile(optimizer='rmsprop',loss='sparse_categorical_crossentropy', metrics=['accuracy'])\n",
    "\n",
    "#model.fit(train_data,train_labels,validation_split=0.2,epochs=5,batch_size=10)\n",
    "    \n",
    "#model.save_weights(top_model_weights_path)\n"
   ]
  },
  {
   "cell_type": "code",
   "execution_count": 11,
   "metadata": {},
   "outputs": [
    {
     "name": "stdout",
     "output_type": "stream",
     "text": [
      "Train on 7984 samples, validate on 1996 samples\n",
      "Epoch 1/2\n",
      "7984/7984 [==============================] - 91s 11ms/step - loss: 4.8668 - acc: 0.3082 - val_loss: 4.1996 - val_acc: 0.3487\n",
      "Epoch 2/2\n",
      "7984/7984 [==============================] - 89s 11ms/step - loss: 4.7842 - acc: 0.3265 - val_loss: 4.2514 - val_acc: 0.3487\n"
     ]
    },
    {
     "data": {
      "text/plain": [
       "<keras.callbacks.History at 0x18fa74ea860>"
      ]
     },
     "execution_count": 11,
     "metadata": {},
     "output_type": "execute_result"
    }
   ],
   "source": [
    "model.fit(train_data,train_labels,validation_split=0.2,epochs=2,batch_size=10)"
   ]
  },
  {
   "cell_type": "code",
   "execution_count": 15,
   "metadata": {},
   "outputs": [
    {
     "name": "stdout",
     "output_type": "stream",
     "text": [
      "Train on 7984 samples, validate on 1996 samples\n",
      "Epoch 1/2\n",
      "7984/7984 [==============================] - 170s 21ms/step - loss: 5.1474 - acc: 0.3161 - val_loss: 4.1484 - val_acc: 0.3487\n",
      "Epoch 2/2\n",
      "7984/7984 [==============================] - 168s 21ms/step - loss: 4.3707 - acc: 0.3254 - val_loss: 4.4067 - val_acc: 0.3487\n"
     ]
    },
    {
     "data": {
      "text/plain": [
       "<keras.callbacks.History at 0x18fa9c64470>"
      ]
     },
     "execution_count": 15,
     "metadata": {},
     "output_type": "execute_result"
    }
   ],
   "source": [
    "train_data = np.load(open('C:\\\\Users\\\\saish\\\\Documents\\\\EE258\\\\vgg16\\\\bottleneck_features_train.npy', 'rb'))\n",
    "train_labels = np.array(label_train)\n",
    "\n",
    "\n",
    "validation_data = np.load(open('C:\\\\Users\\\\saish\\\\Documents\\\\EE258\\\\vgg16\\\\bottleneck_features_validation.npy', 'rb'))\n",
    "validation_labels = np.array(test_lab)\n",
    "    \n",
    "\n",
    "model = Sequential()\n",
    "model.add(Flatten(input_shape=train_data.shape[1:]))\n",
    "model.add(Dense(500, activation='relu'))\n",
    "model.add(Dropout(0.1))\n",
    "model.add(Dense(len(rev_labels), activation='softmax'))\n",
    "\n",
    "model.compile(optimizer='rmsprop',loss='sparse_categorical_crossentropy', metrics=['accuracy'])\n",
    "\n",
    "model.fit(train_data,train_labels,validation_split=0.2,epochs=2,batch_size=10)\n",
    "    "
   ]
  },
  {
   "cell_type": "code",
   "execution_count": 16,
   "metadata": {},
   "outputs": [
    {
     "name": "stdout",
     "output_type": "stream",
     "text": [
      "Train on 7984 samples, validate on 1996 samples\n",
      "Epoch 1/2\n",
      "7984/7984 [==============================] - 343s 43ms/step - loss: 10.8352 - acc: 0.3270 - val_loss: 10.4979 - val_acc: 0.3487\n",
      "Epoch 2/2\n",
      "7984/7984 [==============================] - 337s 42ms/step - loss: 10.8350 - acc: 0.3278 - val_loss: 10.4979 - val_acc: 0.3487\n"
     ]
    },
    {
     "data": {
      "text/plain": [
       "<keras.callbacks.History at 0x18fa9e9a6d8>"
      ]
     },
     "execution_count": 16,
     "metadata": {},
     "output_type": "execute_result"
    }
   ],
   "source": [
    "train_data = np.load(open('C:\\\\Users\\\\saish\\\\Documents\\\\EE258\\\\vgg16\\\\bottleneck_features_train.npy', 'rb'))\n",
    "train_labels = np.array(label_train)\n",
    "\n",
    "\n",
    "validation_data = np.load(open('C:\\\\Users\\\\saish\\\\Documents\\\\EE258\\\\vgg16\\\\bottleneck_features_validation.npy', 'rb'))\n",
    "validation_labels = np.array(test_lab)\n",
    "    \n",
    "\n",
    "model = Sequential()\n",
    "model.add(Flatten(input_shape=train_data.shape[1:]))\n",
    "model.add(Dense(1024, activation='relu'))\n",
    "model.add(Dropout(0.1))\n",
    "model.add(Dense(len(rev_labels), activation='softmax'))\n",
    "\n",
    "model.compile(optimizer='rmsprop',loss='sparse_categorical_crossentropy', metrics=['accuracy'])\n",
    "\n",
    "model.fit(train_data,train_labels,validation_split=0.2,epochs=2,batch_size=10)"
   ]
  },
  {
   "cell_type": "code",
   "execution_count": 17,
   "metadata": {},
   "outputs": [
    {
     "name": "stdout",
     "output_type": "stream",
     "text": [
      "Train on 7984 samples, validate on 1996 samples\n",
      "Epoch 1/2\n",
      "7984/7984 [==============================] - 223s 28ms/step - loss: 4.3528 - acc: 0.2885 - val_loss: 4.9082 - val_acc: 0.1127\n",
      "Epoch 2/2\n",
      "7984/7984 [==============================] - 225s 28ms/step - loss: 4.1736 - acc: 0.3041 - val_loss: 4.7920 - val_acc: 0.1167\n"
     ]
    },
    {
     "data": {
      "text/plain": [
       "<keras.callbacks.History at 0x18facd20d30>"
      ]
     },
     "execution_count": 17,
     "metadata": {},
     "output_type": "execute_result"
    }
   ],
   "source": [
    "train_data = np.load(open('C:\\\\Users\\\\saish\\\\Documents\\\\EE258\\\\vgg16\\\\bottleneck_features_train.npy', 'rb'))\n",
    "train_labels = np.array(label_train)\n",
    "\n",
    "\n",
    "validation_data = np.load(open('C:\\\\Users\\\\saish\\\\Documents\\\\EE258\\\\vgg16\\\\bottleneck_features_validation.npy', 'rb'))\n",
    "validation_labels = np.array(test_lab)\n",
    "    \n",
    "\n",
    "model = Sequential()\n",
    "model.add(Flatten(input_shape=train_data.shape[1:]))\n",
    "model.add(Dense(1024, activation='relu'))\n",
    "model.add(Dropout(0.1))\n",
    "model.add(Dense(len(rev_labels), activation='softmax'))\n",
    "\n",
    "sgd = optimizers.SGD(lr=0.0001, decay=1e-6, momentum=0.9, nesterov=True)\n",
    "model.compile(optimizer='sgd',loss='sparse_categorical_crossentropy', metrics=['accuracy'])\n",
    "\n",
    "model.fit(train_data,train_labels,validation_split=0.2,epochs=2,batch_size=10)"
   ]
  },
  {
   "cell_type": "code",
   "execution_count": 19,
   "metadata": {},
   "outputs": [
    {
     "name": "stdout",
     "output_type": "stream",
     "text": [
      "Train on 7984 samples, validate on 1996 samples\n",
      "Epoch 1/2\n",
      "7984/7984 [==============================] - 339s 42ms/step - loss: 20.5967 - acc: 0.2913 - val_loss: 17.9741 - val_acc: 0.3487\n",
      "Epoch 2/2\n",
      "7984/7984 [==============================] - 304s 38ms/step - loss: 15.9914 - acc: 0.3034 - val_loss: 14.1849 - val_acc: 0.1132\n"
     ]
    },
    {
     "data": {
      "text/plain": [
       "<keras.callbacks.History at 0x18fba7d1dd8>"
      ]
     },
     "execution_count": 19,
     "metadata": {},
     "output_type": "execute_result"
    }
   ],
   "source": [
    "from keras import regularizers\n",
    "train_data = np.load(open('C:\\\\Users\\\\saish\\\\Documents\\\\EE258\\\\vgg16\\\\bottleneck_features_train.npy', 'rb'))\n",
    "train_labels = np.array(label_train)\n",
    "\n",
    "\n",
    "validation_data = np.load(open('C:\\\\Users\\\\saish\\\\Documents\\\\EE258\\\\vgg16\\\\bottleneck_features_validation.npy', 'rb'))\n",
    "validation_labels = np.array(test_lab)\n",
    "    \n",
    "\n",
    "model = Sequential()\n",
    "model.add(Flatten(input_shape=train_data.shape[1:]))\n",
    "model.add(Dense(1024, activation='relu', kernel_regularizer=regularizers.l2(0.01)))\n",
    "model.add(Dropout(0.1))\n",
    "model.add(Dense(len(rev_labels), activation='softmax'))\n",
    "\n",
    "sgd = optimizers.SGD(lr=0.0001, decay=1e-6, momentum=0.9, nesterov=True)\n",
    "model.compile(optimizer='sgd',loss='sparse_categorical_crossentropy', metrics=['accuracy'])\n",
    "\n",
    "model.fit(train_data,train_labels,validation_split=0.2,epochs=2,batch_size=10)"
   ]
  }
 ],
 "metadata": {
  "kernelspec": {
   "display_name": "Python 3",
   "language": "python",
   "name": "python3"
  },
  "language_info": {
   "codemirror_mode": {
    "name": "ipython",
    "version": 3
   },
   "file_extension": ".py",
   "mimetype": "text/x-python",
   "name": "python",
   "nbconvert_exporter": "python",
   "pygments_lexer": "ipython3",
   "version": "3.5.4"
  }
 },
 "nbformat": 4,
 "nbformat_minor": 2
}
