{
 "cells": [
  {
   "cell_type": "code",
   "execution_count": 1,
   "metadata": {},
   "outputs": [
    {
     "name": "stderr",
     "output_type": "stream",
     "text": [
      "Using TensorFlow backend.\n"
     ]
    }
   ],
   "source": [
    "import numpy as np # linear algebra\n",
    "import pandas as pd # data processing, CSV file I/O (e.g. pd.read_csv)\n",
    "from io import BytesIO\n",
    "import cv2\n",
    "import bson\n",
    "from skimage.data import imread\n",
    "import matplotlib.pyplot as plt\n",
    "import keras\n",
    "from PIL import Image\n",
    "import io, bson, multiprocessing\n",
    "import os\n",
    "from keras import applications\n",
    "from keras.preprocessing.image import ImageDataGenerator\n",
    "from keras import optimizers\n",
    "from keras.models import Sequential\n",
    "from keras.layers import Dropout, Flatten, Dense"
   ]
  },
  {
   "cell_type": "code",
   "execution_count": 2,
   "metadata": {
    "collapsed": true
   },
   "outputs": [],
   "source": [
    "def get_the_data(path):\n",
    "    data = bson.decode_file_iter(open(path, 'rb'))\n",
    "    images=[]\n",
    "    category=[]\n",
    "    for c, d in enumerate(data):\n",
    "        product_id = d['_id']\n",
    "        category_id = d['category_id'] \n",
    "        for e, pic in enumerate(d['imgs']):\n",
    "            category.append(category_id)\n",
    "            im=pic['picture']\n",
    "            images.append(Image.open(io.BytesIO(im)))\n",
    "        if(len(set(category))==100):\n",
    "            break\n",
    "    return category, images"
   ]
  },
  {
   "cell_type": "code",
   "execution_count": 3,
   "metadata": {
    "collapsed": true
   },
   "outputs": [],
   "source": [
    "product_category_train,image_train=get_the_data('E:\\\\kaggle\\\\train.bson')"
   ]
  },
  {
   "cell_type": "code",
   "execution_count": 4,
   "metadata": {
    "collapsed": true
   },
   "outputs": [],
   "source": [
    "y, rev_labels = pd.factorize(product_category_train)"
   ]
  },
  {
   "cell_type": "code",
   "execution_count": 5,
   "metadata": {},
   "outputs": [
    {
     "data": {
      "text/plain": [
       "383"
      ]
     },
     "execution_count": 5,
     "metadata": {},
     "output_type": "execute_result"
    }
   ],
   "source": [
    "len(y)"
   ]
  },
  {
   "cell_type": "code",
   "execution_count": 6,
   "metadata": {
    "collapsed": true
   },
   "outputs": [],
   "source": [
    "from sklearn.utils import shuffle\n",
    "im_train,lab_train=shuffle(image_train,y)\n",
    "test_im=im_train[350:]\n",
    "test_lab=lab_train[350:]\n",
    "image_train=im_train[:350]\n",
    "label_train=lab_train[:350]"
   ]
  },
  {
   "cell_type": "code",
   "execution_count": 7,
   "metadata": {
    "collapsed": true
   },
   "outputs": [],
   "source": [
    "len_train = len(image_train)\n",
    "len_test = len(test_im)"
   ]
  },
  {
   "cell_type": "code",
   "execution_count": 9,
   "metadata": {
    "collapsed": true
   },
   "outputs": [],
   "source": [
    "len_cat = len(image_train)\n",
    "#\n",
    "cnt = 0\n",
    "flag=0\n",
    "for i in range(len_cat):\n",
    "        if i == 0:\n",
    "            n = label_train[i]\n",
    "            #print('cat', n)\n",
    "            dir_ = 'C:\\\\Users\\\\saish\\\\Documents\\\\EE258\\\\DA\\\\train'\n",
    "            pathname = os.path.join(dir_, str(n))\n",
    "            if not os.path.exists(pathname):\n",
    "                  os.makedirs(pathname)\n",
    "            os.chdir(pathname)\n",
    "            d = image_train[i]\n",
    "            d.save(\"{0}.jpg\".format(str(cnt)))\n",
    "        if i != 0:      \n",
    "            if((label_train[i])!=(label_train[i-1])):\n",
    "                n = label_train[i]\n",
    "                #print('cat', n)\n",
    "                dir_ = 'C:\\\\Users\\\\saish\\\\Documents\\\\EE258\\\\DA\\\\train'\n",
    "                pathname = os.path.join(dir_, str(n))  \n",
    "                if not os.path.exists(pathname):\n",
    "                      os.makedirs(pathname)\n",
    "                os.chdir(pathname)\n",
    "                d = image_train[i]\n",
    "                d.save(\"{0}.jpg\".format(str(cnt)))\n",
    "            if((label_train[i])==(label_train[i-1])):\n",
    "                  n = label_train[i]\n",
    "                  #print('cat', n)\n",
    "                  d = image_train[i]\n",
    "                  d.save(\"{0}.jpg\".format(str(cnt)))\n",
    "                \n",
    "        cnt +=1"
   ]
  },
  {
   "cell_type": "code",
   "execution_count": 10,
   "metadata": {
    "collapsed": true
   },
   "outputs": [],
   "source": [
    "len_cat = len(test_im)\n",
    "#\n",
    "cnt = 0\n",
    "flag=0\n",
    "for i in range(len_cat):\n",
    "        if i == 0:\n",
    "            n = test_lab[i]\n",
    "            #print('cat', n)\n",
    "            dir_ = 'C:\\\\Users\\\\saish\\\\Documents\\\\EE258\\\\DA\\\\test'\n",
    "            pathname = os.path.join(dir_, str(n))\n",
    "            if not os.path.exists(pathname):\n",
    "                  os.makedirs(pathname)\n",
    "            os.chdir(pathname)\n",
    "            d = test_im[i]\n",
    "            d.save(\"{0}.jpg\".format(str(cnt)))\n",
    "        if i != 0:      \n",
    "            if((test_lab[i])!=(test_lab[i-1])):\n",
    "                n = test_lab[i]\n",
    "                #print('cat', n)\n",
    "                dir_ = 'C:\\\\Users\\\\saish\\\\Documents\\\\EE258\\\\DA\\\\test'\n",
    "                pathname = os.path.join(dir_, str(n))  \n",
    "                if not os.path.exists(pathname):\n",
    "                      os.makedirs(pathname)\n",
    "                os.chdir(pathname)\n",
    "                d = test_im[i]\n",
    "                d.save(\"{0}.jpg\".format(str(cnt)))\n",
    "            if((test_lab[i])==(test_lab[i-1])):\n",
    "                  n = test_lab[i]\n",
    "                  #print('cat', n)\n",
    "                  d = test_im[i]\n",
    "                  d.save(\"{0}.jpg\".format(str(cnt)))\n",
    "                \n",
    "        cnt +=1"
   ]
  },
  {
   "cell_type": "markdown",
   "metadata": {},
   "source": [
    "# KERAS VGG19\n"
   ]
  },
  {
   "cell_type": "code",
   "execution_count": 13,
   "metadata": {
    "collapsed": true
   },
   "outputs": [],
   "source": [
    "img_width, img_height = 180, 180\n",
    "top_model_weights_path = 'bottleneck_fc_model_vgg19_aug.h5'\n",
    "train_data_dir = 'C:\\\\Users\\\\saish\\\\Documents\\\\EE258\\\\DA\\\\train'\n",
    "validation_data_dir = 'C:\\\\Users\\\\saish\\\\Documents\\\\EE258\\\\DA\\\\test'\n",
    "nb_train_samples = len_train\n",
    "nb_validation_samples = len_test\n",
    "epochs = 50\n",
    "batch_size = 1"
   ]
  },
  {
   "cell_type": "code",
   "execution_count": 14,
   "metadata": {
    "collapsed": true
   },
   "outputs": [],
   "source": [
    "def save_bottlebeck_features():\n",
    "    datagen = ImageDataGenerator(rescale=1. / 255)\n",
    "\n",
    "    # build the VGG16 network\n",
    "    model = applications.VGG19(include_top=False, weights='imagenet')\n",
    "\n",
    "    generator = datagen.flow_from_directory(\n",
    "        train_data_dir,\n",
    "        target_size=(img_width, img_height),\n",
    "        batch_size=batch_size,\n",
    "        class_mode=None,\n",
    "        shuffle=False)\n",
    "    bottleneck_features_train = model.predict_generator(\n",
    "        generator, nb_train_samples // batch_size)\n",
    "    np.save(open('bottleneck_features_train_vgg19_aug.npy', 'wb'),\n",
    "            bottleneck_features_train)\n",
    "\n",
    "    generator = datagen.flow_from_directory(\n",
    "        validation_data_dir,\n",
    "        target_size=(img_width, img_height),\n",
    "        batch_size=batch_size,\n",
    "        class_mode=None,\n",
    "        shuffle=False)\n",
    "    bottleneck_features_validation = model.predict_generator(\n",
    "        generator, nb_validation_samples // batch_size)\n",
    "    np.save(open('bottleneck_features_validation_vgg19_aug.npy', 'wb'),\n",
    "            bottleneck_features_validation)"
   ]
  },
  {
   "cell_type": "code",
   "execution_count": 15,
   "metadata": {},
   "outputs": [
    {
     "name": "stdout",
     "output_type": "stream",
     "text": [
      "Found 350 images belonging to 95 classes.\n",
      "Found 33 images belonging to 18 classes.\n"
     ]
    }
   ],
   "source": [
    "save_bottlebeck_features()"
   ]
  },
  {
   "cell_type": "code",
   "execution_count": 21,
   "metadata": {},
   "outputs": [
    {
     "name": "stdout",
     "output_type": "stream",
     "text": [
      "Train on 280 samples, validate on 70 samples\n",
      "Epoch 1/10\n",
      "280/280 [==============================] - 46s 163ms/step - loss: 11.7026 - acc: 0.2714 - val_loss: 9.9011 - val_acc: 0.3857\n",
      "Epoch 2/10\n",
      "280/280 [==============================] - 44s 157ms/step - loss: 11.6856 - acc: 0.2750 - val_loss: 9.9011 - val_acc: 0.3857\n",
      "Epoch 3/10\n",
      "280/280 [==============================] - 44s 159ms/step - loss: 11.6856 - acc: 0.2750 - val_loss: 9.9011 - val_acc: 0.3857\n",
      "Epoch 4/10\n",
      "280/280 [==============================] - 43s 154ms/step - loss: 11.6856 - acc: 0.2750 - val_loss: 9.9011 - val_acc: 0.3857\n",
      "Epoch 5/10\n",
      "280/280 [==============================] - 43s 155ms/step - loss: 11.6856 - acc: 0.2750 - val_loss: 9.9011 - val_acc: 0.3857\n",
      "Epoch 6/10\n",
      "280/280 [==============================] - 43s 153ms/step - loss: 11.6856 - acc: 0.2750 - val_loss: 9.9011 - val_acc: 0.3857\n",
      "Epoch 7/10\n",
      "280/280 [==============================] - 42s 151ms/step - loss: 11.6856 - acc: 0.2750 - val_loss: 9.9011 - val_acc: 0.3857\n",
      "Epoch 8/10\n",
      "280/280 [==============================] - 44s 156ms/step - loss: 11.6856 - acc: 0.2750 - val_loss: 9.9011 - val_acc: 0.3857\n",
      "Epoch 9/10\n",
      "280/280 [==============================] - 45s 161ms/step - loss: 11.6856 - acc: 0.2750 - val_loss: 9.9011 - val_acc: 0.3857\n",
      "Epoch 10/10\n",
      "280/280 [==============================] - 44s 157ms/step - loss: 11.6856 - acc: 0.2750 - val_loss: 9.9011 - val_acc: 0.3857\n"
     ]
    }
   ],
   "source": [
    "train_data = np.load(open('bottleneck_features_train_vgg19_aug.npy', 'rb'))\n",
    "train_labels = np.array(label_train)\n",
    "\n",
    "\n",
    "validation_data = np.load(open('bottleneck_features_validation_vgg19_aug.npy', 'rb'))\n",
    "validation_labels = np.array(test_lab)\n",
    "    \n",
    "\n",
    "model = Sequential()\n",
    "model.add(Flatten(input_shape=train_data.shape[1:]))\n",
    "model.add(Dense(1024, activation='relu'))\n",
    "model.add(Dropout(0.1))\n",
    "model.add(Dense(len(rev_labels), activation='softmax'))\n",
    "\n",
    "#sgd = optimizers.SGD(lr=0.01, decay=1e-6, momentum=0.9, nesterov=True)\n",
    "model.compile(optimizer='sgd',loss='sparse_categorical_crossentropy', metrics=['accuracy'])\n",
    "\n",
    "model.fit(train_data,train_labels,validation_split=0.2,epochs=10,batch_size=1)\n",
    "model.save_weights(top_model_weights_path)"
   ]
  },
  {
   "cell_type": "code",
   "execution_count": null,
   "metadata": {
    "collapsed": true
   },
   "outputs": [],
   "source": []
  },
  {
   "cell_type": "code",
   "execution_count": 35,
   "metadata": {
    "collapsed": true
   },
   "outputs": [],
   "source": [
    "img_width, img_height = 180, 180\n",
    "weights_path = '../keras/examples/vgg16_weights.h5'\n",
    "top_model_weights_path = 'bottleneck_fc_model_vgg19_aug.h5'\n",
    "train_data_dir = 'C:\\\\Users\\\\saish\\\\Documents\\\\EE258\\\\DA\\\\train'\n",
    "validation_data_dir = 'C:\\\\Users\\\\saish\\\\Documents\\\\EE258\\\\DA\\\\test'\n",
    "nb_train_samples = len_train\n",
    "nb_validation_samples = len_test\n",
    "epochs = 10\n",
    "batch_size = 1"
   ]
  },
  {
   "cell_type": "code",
   "execution_count": 23,
   "metadata": {},
   "outputs": [
    {
     "name": "stdout",
     "output_type": "stream",
     "text": [
      "Model loaded.\n"
     ]
    }
   ],
   "source": [
    "base_model = applications.VGG16(weights='imagenet', include_top=False, input_shape=(180,180,3))\n",
    "print('Model loaded.')"
   ]
  },
  {
   "cell_type": "code",
   "execution_count": 24,
   "metadata": {
    "collapsed": true
   },
   "outputs": [],
   "source": [
    "from keras import regularizers\n",
    "t_model = Sequential()\n",
    "t_model.add(Flatten(input_shape=base_model.output_shape[1:]))\n",
    "t_model.add(Dense(1024, activation='relu', kernel_regularizer=regularizers.l2(0.01)))\n",
    "t_model.add(Dropout(0.1))\n",
    "t_model.add(Dense(len(rev_labels), activation='softmax'))"
   ]
  },
  {
   "cell_type": "code",
   "execution_count": 25,
   "metadata": {},
   "outputs": [],
   "source": [
    "t_model.load_weights(top_model_weights_path)"
   ]
  },
  {
   "cell_type": "code",
   "execution_count": 26,
   "metadata": {
    "collapsed": true
   },
   "outputs": [],
   "source": [
    "from keras.models import Model\n",
    "model = Model(inputs=base_model.input, outputs=t_model(base_model.output))"
   ]
  },
  {
   "cell_type": "code",
   "execution_count": 27,
   "metadata": {},
   "outputs": [
    {
     "name": "stdout",
     "output_type": "stream",
     "text": [
      "0 input_3\n",
      "1 block1_conv1\n",
      "2 block1_conv2\n",
      "3 block1_pool\n",
      "4 block2_conv1\n",
      "5 block2_conv2\n",
      "6 block2_pool\n",
      "7 block3_conv1\n",
      "8 block3_conv2\n",
      "9 block3_conv3\n",
      "10 block3_pool\n",
      "11 block4_conv1\n",
      "12 block4_conv2\n",
      "13 block4_conv3\n",
      "14 block4_pool\n",
      "15 block5_conv1\n",
      "16 block5_conv2\n",
      "17 block5_conv3\n",
      "18 block5_pool\n",
      "19 sequential_8\n"
     ]
    }
   ],
   "source": [
    "for i, layer in enumerate(model.layers):\n",
    "   print(i, layer.name)"
   ]
  },
  {
   "cell_type": "code",
   "execution_count": 28,
   "metadata": {
    "collapsed": true
   },
   "outputs": [],
   "source": [
    "for layer in model.layers[:14]:\n",
    "    layer.trainable = False"
   ]
  },
  {
   "cell_type": "code",
   "execution_count": 29,
   "metadata": {
    "collapsed": true
   },
   "outputs": [],
   "source": [
    "model.compile(loss='sparse_categorical_crossentropy',\n",
    "              optimizer=optimizers.SGD(lr=1e-4, momentum=0.9),\n",
    "              metrics=['accuracy'])"
   ]
  },
  {
   "cell_type": "code",
   "execution_count": 30,
   "metadata": {
    "collapsed": true
   },
   "outputs": [],
   "source": [
    "train_datagen = ImageDataGenerator(\n",
    "    rescale=1. / 255,\n",
    "    shear_range=0.2,\n",
    "    zoom_range=0.2,\n",
    "    horizontal_flip=True)"
   ]
  },
  {
   "cell_type": "code",
   "execution_count": 31,
   "metadata": {
    "collapsed": true
   },
   "outputs": [],
   "source": [
    "test_datagen = ImageDataGenerator(rescale=1. / 255)"
   ]
  },
  {
   "cell_type": "code",
   "execution_count": 32,
   "metadata": {},
   "outputs": [
    {
     "name": "stdout",
     "output_type": "stream",
     "text": [
      "Found 350 images belonging to 95 classes.\n"
     ]
    }
   ],
   "source": [
    "train_generator = train_datagen.flow_from_directory(\n",
    "    train_data_dir,\n",
    "    target_size=(img_height, img_width),\n",
    "    batch_size=batch_size,\n",
    "    class_mode='sparse')"
   ]
  },
  {
   "cell_type": "code",
   "execution_count": 33,
   "metadata": {},
   "outputs": [
    {
     "name": "stdout",
     "output_type": "stream",
     "text": [
      "Found 33 images belonging to 18 classes.\n"
     ]
    }
   ],
   "source": [
    "validation_generator = test_datagen.flow_from_directory(\n",
    "    validation_data_dir,\n",
    "    target_size=(img_height, img_width),\n",
    "    batch_size=batch_size,\n",
    "    class_mode='sparse')"
   ]
  },
  {
   "cell_type": "code",
   "execution_count": 36,
   "metadata": {},
   "outputs": [
    {
     "name": "stdout",
     "output_type": "stream",
     "text": [
      "Epoch 1/10\n",
      " - 540s - loss: 22.3915 - acc: 0.2829 - val_loss: 22.5065 - val_acc: 0.1212\n",
      "Epoch 2/10\n",
      " - 536s - loss: 21.3279 - acc: 0.3943 - val_loss: 21.9329 - val_acc: 0.2727\n",
      "Epoch 3/10\n",
      " - 518s - loss: 20.3248 - acc: 0.5343 - val_loss: 22.0256 - val_acc: 0.3333\n",
      "Epoch 4/10\n",
      " - 526s - loss: 19.4622 - acc: 0.6771 - val_loss: 22.1532 - val_acc: 0.3939\n",
      "Epoch 5/10\n",
      " - 526s - loss: 18.6902 - acc: 0.7971 - val_loss: 22.3411 - val_acc: 0.3939\n",
      "Epoch 6/10\n",
      " - 533s - loss: 18.2519 - acc: 0.8514 - val_loss: 21.9067 - val_acc: 0.3939\n",
      "Epoch 7/10\n",
      " - 527s - loss: 17.7119 - acc: 0.9029 - val_loss: 22.2069 - val_acc: 0.3939\n",
      "Epoch 8/10\n",
      " - 475s - loss: 17.4662 - acc: 0.9086 - val_loss: 23.0573 - val_acc: 0.3636\n",
      "Epoch 9/10\n",
      " - 552s - loss: 16.9972 - acc: 0.9800 - val_loss: 22.9780 - val_acc: 0.2727\n",
      "Epoch 10/10\n",
      " - 542s - loss: 16.7666 - acc: 0.9714 - val_loss: 23.0561 - val_acc: 0.2727\n"
     ]
    },
    {
     "data": {
      "text/plain": [
       "<keras.callbacks.History at 0x1b30a0bbe48>"
      ]
     },
     "execution_count": 36,
     "metadata": {},
     "output_type": "execute_result"
    }
   ],
   "source": [
    "model.fit_generator(\n",
    "    train_generator,\n",
    "    steps_per_epoch=nb_train_samples // batch_size,\n",
    "    epochs=epochs,\n",
    "    validation_data=validation_generator,\n",
    "    validation_steps=nb_validation_samples // batch_size,\n",
    "    verbose=2)"
   ]
  }
 ],
 "metadata": {
  "kernelspec": {
   "display_name": "Python 3",
   "language": "python",
   "name": "python3"
  },
  "language_info": {
   "codemirror_mode": {
    "name": "ipython",
    "version": 3
   },
   "file_extension": ".py",
   "mimetype": "text/x-python",
   "name": "python",
   "nbconvert_exporter": "python",
   "pygments_lexer": "ipython3",
   "version": "3.5.4"
  }
 },
 "nbformat": 4,
 "nbformat_minor": 2
}
