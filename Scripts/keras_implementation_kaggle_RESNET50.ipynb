{
 "cells": [
  {
   "cell_type": "code",
   "execution_count": 1,
   "metadata": {},
   "outputs": [
    {
     "name": "stderr",
     "output_type": "stream",
     "text": [
      "Using TensorFlow backend.\n"
     ]
    }
   ],
   "source": [
    "import numpy as np # linear algebra\n",
    "import pandas as pd # data processing, CSV file I/O (e.g. pd.read_csv)\n",
    "from io import BytesIO\n",
    "import cv2\n",
    "import bson\n",
    "from skimage.data import imread\n",
    "import matplotlib.pyplot as plt\n",
    "import keras\n",
    "from PIL import Image\n",
    "import io, bson, multiprocessing\n",
    "import os\n",
    "from keras import applications\n",
    "from keras.preprocessing.image import ImageDataGenerator\n",
    "from keras import optimizers\n",
    "from keras.models import Sequential\n",
    "from keras.layers import Dropout, Flatten, Dense"
   ]
  },
  {
   "cell_type": "code",
   "execution_count": 2,
   "metadata": {
    "collapsed": true
   },
   "outputs": [],
   "source": [
    "def get_the_data(path):\n",
    "    data = bson.decode_file_iter(open(path, 'rb'))\n",
    "    images=[]\n",
    "    category=[]\n",
    "    for c, d in enumerate(data):\n",
    "        product_id = d['_id']\n",
    "        category_id = d['category_id'] \n",
    "        for e, pic in enumerate(d['imgs']):\n",
    "            category.append(category_id)\n",
    "            im=pic['picture']\n",
    "            images.append(Image.open(io.BytesIO(im)))\n",
    "        if(len(set(category))==860):\n",
    "            break\n",
    "    return category, images"
   ]
  },
  {
   "cell_type": "code",
   "execution_count": 3,
   "metadata": {
    "collapsed": true
   },
   "outputs": [],
   "source": [
    "product_category_train,image_train=get_the_data('E:\\\\kaggle\\\\train.bson')"
   ]
  },
  {
   "cell_type": "code",
   "execution_count": 4,
   "metadata": {
    "collapsed": true
   },
   "outputs": [],
   "source": [
    "y, rev_labels = pd.factorize(product_category_train)"
   ]
  },
  {
   "cell_type": "code",
   "execution_count": 5,
   "metadata": {},
   "outputs": [
    {
     "data": {
      "text/plain": [
       "9998"
      ]
     },
     "execution_count": 5,
     "metadata": {},
     "output_type": "execute_result"
    }
   ],
   "source": [
    "len(y)"
   ]
  },
  {
   "cell_type": "code",
   "execution_count": 6,
   "metadata": {
    "collapsed": true
   },
   "outputs": [],
   "source": [
    "from sklearn.utils import shuffle\n",
    "im_train,lab_train=shuffle(image_train,y)\n",
    "test_im=im_train[9980:]\n",
    "test_lab=lab_train[9980:]\n",
    "image_train=im_train[:9980]\n",
    "label_train=lab_train[:9980]"
   ]
  },
  {
   "cell_type": "code",
   "execution_count": 7,
   "metadata": {
    "collapsed": true
   },
   "outputs": [],
   "source": [
    "len_train = len(image_train)\n",
    "len_test = len(test_im)"
   ]
  },
  {
   "cell_type": "code",
   "execution_count": 8,
   "metadata": {
    "collapsed": true
   },
   "outputs": [],
   "source": [
    "len_cat = len(image_train)\n",
    "#\n",
    "cnt = 0\n",
    "flag=0\n",
    "for i in range(len_cat):\n",
    "        if i == 0:\n",
    "            n = label_train[i]\n",
    "            #print('cat', n)\n",
    "            dir_ = 'C:\\\\Users\\\\saish\\\\Documents\\\\EE258\\\\test\\\\train'\n",
    "            pathname = os.path.join(dir_, str(n))\n",
    "            if not os.path.exists(pathname):\n",
    "                  os.makedirs(pathname)\n",
    "            os.chdir(pathname)\n",
    "            d = image_train[i]\n",
    "            d.save(\"{0}.jpg\".format(str(cnt)))\n",
    "        if i != 0:      \n",
    "            if((label_train[i])!=(label_train[i-1])):\n",
    "                n = label_train[i]\n",
    "                #print('cat', n)\n",
    "                dir_ = 'C:\\\\Users\\\\saish\\\\Documents\\\\EE258\\\\test\\\\train'\n",
    "                pathname = os.path.join(dir_, str(n))  \n",
    "                if not os.path.exists(pathname):\n",
    "                      os.makedirs(pathname)\n",
    "                os.chdir(pathname)\n",
    "                d = image_train[i]\n",
    "                d.save(\"{0}.jpg\".format(str(cnt)))\n",
    "            if((label_train[i])==(label_train[i-1])):\n",
    "                  n = label_train[i]\n",
    "                  #print('cat', n)\n",
    "                  d = image_train[i]\n",
    "                  d.save(\"{0}.jpg\".format(str(cnt)))\n",
    "                \n",
    "        cnt +=1"
   ]
  },
  {
   "cell_type": "code",
   "execution_count": 9,
   "metadata": {
    "collapsed": true
   },
   "outputs": [],
   "source": [
    "len_cat = len(test_im)\n",
    "#\n",
    "cnt = 0\n",
    "flag=0\n",
    "for i in range(len_cat):\n",
    "        if i == 0:\n",
    "            n = test_lab[i]\n",
    "            #print('cat', n)\n",
    "            dir_ = 'C:\\\\Users\\\\saish\\\\Documents\\\\EE258\\\\test\\\\test'\n",
    "            pathname = os.path.join(dir_, str(n))\n",
    "            if not os.path.exists(pathname):\n",
    "                  os.makedirs(pathname)\n",
    "            os.chdir(pathname)\n",
    "            d = test_im[i]\n",
    "            d.save(\"{0}.jpg\".format(str(cnt)))\n",
    "        if i != 0:      \n",
    "            if((test_lab[i])!=(test_lab[i-1])):\n",
    "                n = test_lab[i]\n",
    "                #print('cat', n)\n",
    "                dir_ = 'C:\\\\Users\\\\saish\\\\Documents\\\\EE258\\\\test\\\\test'\n",
    "                pathname = os.path.join(dir_, str(n))  \n",
    "                if not os.path.exists(pathname):\n",
    "                      os.makedirs(pathname)\n",
    "                os.chdir(pathname)\n",
    "                d = test_im[i]\n",
    "                d.save(\"{0}.jpg\".format(str(cnt)))\n",
    "            if((test_lab[i])==(test_lab[i-1])):\n",
    "                  n = test_lab[i]\n",
    "                  #print('cat', n)\n",
    "                  d = test_im[i]\n",
    "                  d.save(\"{0}.jpg\".format(str(cnt)))\n",
    "                \n",
    "        cnt +=1"
   ]
  },
  {
   "cell_type": "markdown",
   "metadata": {},
   "source": [
    "# KERAS ResNet50"
   ]
  },
  {
   "cell_type": "code",
   "execution_count": 13,
   "metadata": {
    "collapsed": true
   },
   "outputs": [],
   "source": [
    "img_width, img_height = 197, 197\n",
    "top_model_weights_path = 'bottleneck_fc_model_Res.h5'\n",
    "train_data_dir = 'C:\\\\Users\\\\saish\\\\Documents\\\\EE258\\\\test\\\\train'\n",
    "validation_data_dir = 'C:\\\\Users\\\\saish\\\\Documents\\\\EE258\\\\test\\\\test'\n",
    "nb_train_samples = len_train\n",
    "nb_validation_samples = len_test\n",
    "epochs = 50\n",
    "batch_size = 1"
   ]
  },
  {
   "cell_type": "code",
   "execution_count": 14,
   "metadata": {
    "collapsed": true
   },
   "outputs": [],
   "source": [
    "def save_bottlebeck_features():\n",
    "    datagen = ImageDataGenerator(rescale=1. / 255)\n",
    "\n",
    "    # build the VGG16 network\n",
    "    model = applications.ResNet50(include_top=False, weights='imagenet',input_shape=(197,197,3))\n",
    "\n",
    "    generator = datagen.flow_from_directory(\n",
    "        train_data_dir,\n",
    "        target_size=(img_width, img_height),\n",
    "        batch_size=batch_size,\n",
    "        class_mode=None,\n",
    "        shuffle=False)\n",
    "    bottleneck_features_train = model.predict_generator(\n",
    "        generator, nb_train_samples // batch_size)\n",
    "    np.save(open('bottleneck_features_train_Res.npy', 'wb'),\n",
    "            bottleneck_features_train)\n",
    "\n",
    "    generator = datagen.flow_from_directory(\n",
    "        validation_data_dir,\n",
    "        target_size=(img_width, img_height),\n",
    "        batch_size=batch_size,\n",
    "        class_mode=None,\n",
    "        shuffle=False)\n",
    "    bottleneck_features_validation = model.predict_generator(\n",
    "        generator, nb_validation_samples // batch_size)\n",
    "    np.save(open('bottleneck_features_validation_Res.npy', 'wb'),\n",
    "            bottleneck_features_validation)"
   ]
  },
  {
   "cell_type": "code",
   "execution_count": 15,
   "metadata": {},
   "outputs": [
    {
     "name": "stdout",
     "output_type": "stream",
     "text": [
      "Found 9980 images belonging to 859 classes.\n",
      "Found 18 images belonging to 10 classes.\n"
     ]
    }
   ],
   "source": [
    "save_bottlebeck_features()"
   ]
  },
  {
   "cell_type": "code",
   "execution_count": 16,
   "metadata": {},
   "outputs": [
    {
     "name": "stdout",
     "output_type": "stream",
     "text": [
      "Train on 7984 samples, validate on 1996 samples\n",
      "Epoch 1/3\n",
      "7984/7984 [==============================] - 81s 10ms/step - loss: 4.5452 - acc: 0.3312 - val_loss: 4.1907 - val_acc: 0.3307\n",
      "Epoch 2/3\n",
      "7984/7984 [==============================] - 75s 9ms/step - loss: 4.6809 - acc: 0.3329 - val_loss: 5.2797 - val_acc: 0.3307\n",
      "Epoch 3/3\n",
      "7984/7984 [==============================] - 74s 9ms/step - loss: 5.7335 - acc: 0.3329 - val_loss: 6.2379 - val_acc: 0.3307\n"
     ]
    }
   ],
   "source": [
    "\n",
    "train_data = np.load(open('bottleneck_features_train_Res.npy', 'rb'))\n",
    "train_labels = np.array(label_train)\n",
    "\n",
    "\n",
    "validation_data = np.load(open('bottleneck_features_validation_Res.npy', 'rb'))\n",
    "validation_labels = np.array(test_lab)\n",
    "    \n",
    "\n",
    "model = Sequential()\n",
    "model.add(Flatten(input_shape=train_data.shape[1:]))\n",
    "model.add(Dense(256, activation='relu'))\n",
    "model.add(Dropout(0.5))\n",
    "model.add(Dense(len(rev_labels), activation='softmax'))\n",
    "\n",
    "model.compile(optimizer='rmsprop',loss='sparse_categorical_crossentropy', metrics=['accuracy'])\n",
    "\n",
    "model.fit(train_data,train_labels,validation_split=0.2,epochs=3,batch_size=1)\n",
    "    \n",
    "model.save_weights(top_model_weights_path)\n"
   ]
  },
  {
   "cell_type": "code",
   "execution_count": 18,
   "metadata": {},
   "outputs": [
    {
     "name": "stdout",
     "output_type": "stream",
     "text": [
      "Train on 7984 samples, validate on 1996 samples\n",
      "Epoch 1/3\n",
      "7984/7984 [==============================] - 217s 27ms/step - loss: 4.4727 - acc: 0.3052 - val_loss: 4.1468 - val_acc: 0.3307\n",
      "Epoch 2/3\n",
      "7984/7984 [==============================] - 213s 27ms/step - loss: 4.3144 - acc: 0.3169 - val_loss: 4.5339 - val_acc: 0.3307\n",
      "Epoch 3/3\n",
      "7984/7984 [==============================] - 210s 26ms/step - loss: 4.2886 - acc: 0.3235 - val_loss: 4.3657 - val_acc: 0.3307\n"
     ]
    }
   ],
   "source": [
    "\n",
    "train_data = np.load(open('bottleneck_features_train_Res.npy', 'rb'))\n",
    "train_labels = np.array(label_train)\n",
    "\n",
    "\n",
    "validation_data = np.load(open('bottleneck_features_validation_Res.npy', 'rb'))\n",
    "validation_labels = np.array(test_lab)\n",
    "    \n",
    "\n",
    "model = Sequential()\n",
    "model.add(Flatten(input_shape=train_data.shape[1:]))\n",
    "model.add(Dense(500, activation='relu'))\n",
    "model.add(Dropout(0.1))\n",
    "model.add(Dense(len(rev_labels), activation='softmax'))\n",
    "\n",
    "model.compile(optimizer='sgd',loss='sparse_categorical_crossentropy', metrics=['accuracy'])\n",
    "\n",
    "model.fit(train_data,train_labels,validation_split=0.2,epochs=3,batch_size=1)\n",
    "    \n",
    "model.save_weights(top_model_weights_path)"
   ]
  },
  {
   "cell_type": "code",
   "execution_count": 19,
   "metadata": {},
   "outputs": [
    {
     "name": "stdout",
     "output_type": "stream",
     "text": [
      "Train on 7984 samples, validate on 1996 samples\n",
      "Epoch 1/3\n",
      "7984/7984 [==============================] - 394s 49ms/step - loss: 4.4774 - acc: 0.3004 - val_loss: 4.1869 - val_acc: 0.3307\n",
      "Epoch 2/3\n",
      "7984/7984 [==============================] - 386s 48ms/step - loss: 4.2818 - acc: 0.3146 - val_loss: 4.6083 - val_acc: 0.3307\n",
      "Epoch 3/3\n",
      "7984/7984 [==============================] - 404s 51ms/step - loss: 4.2865 - acc: 0.3203 - val_loss: 4.1987 - val_acc: 0.3307\n"
     ]
    },
    {
     "data": {
      "text/plain": [
       "<keras.callbacks.History at 0x1e229e19320>"
      ]
     },
     "execution_count": 19,
     "metadata": {},
     "output_type": "execute_result"
    }
   ],
   "source": [
    "\n",
    "train_data = np.load(open('bottleneck_features_train_Res.npy', 'rb'))\n",
    "train_labels = np.array(label_train)\n",
    "\n",
    "\n",
    "validation_data = np.load(open('bottleneck_features_validation_Res.npy', 'rb'))\n",
    "validation_labels = np.array(test_lab)\n",
    "    \n",
    "\n",
    "model = Sequential()\n",
    "model.add(Flatten(input_shape=train_data.shape[1:]))\n",
    "model.add(Dense(1024, activation='relu'))\n",
    "model.add(Dropout(0.1))\n",
    "model.add(Dense(len(rev_labels), activation='softmax'))\n",
    "\n",
    "model.compile(optimizer='sgd',loss='sparse_categorical_crossentropy', metrics=['accuracy'])\n",
    "\n",
    "model.fit(train_data,train_labels,validation_split=0.2,epochs=3,batch_size=1)\n",
    "    \n",
    "#model.save_weights(top_model_weights_path)"
   ]
  },
  {
   "cell_type": "code",
   "execution_count": 21,
   "metadata": {},
   "outputs": [
    {
     "name": "stdout",
     "output_type": "stream",
     "text": [
      "Train on 7984 samples, validate on 1996 samples\n",
      "Epoch 1/2\n",
      "7984/7984 [==============================] - 291s 37ms/step - loss: 4.4797 - acc: 0.3019 - val_loss: 4.3044 - val_acc: 0.3307\n",
      "Epoch 2/2\n",
      "7984/7984 [==============================] - 286s 36ms/step - loss: 4.3409 - acc: 0.3193 - val_loss: 4.1730 - val_acc: 0.3307\n"
     ]
    },
    {
     "data": {
      "text/plain": [
       "<keras.callbacks.History at 0x1e226f8f5f8>"
      ]
     },
     "execution_count": 21,
     "metadata": {},
     "output_type": "execute_result"
    }
   ],
   "source": [
    "from keras import regularizers\n",
    "train_data = np.load(open('bottleneck_features_train_res.npy', 'rb'))\n",
    "train_labels = np.array(label_train)\n",
    "\n",
    "\n",
    "validation_data = np.load(open('bottleneck_features_validation_res.npy', 'rb'))\n",
    "validation_labels = np.array(test_lab)\n",
    "    \n",
    "\n",
    "model = Sequential()\n",
    "\n",
    "\n",
    "model.add(Flatten(input_shape=train_data.shape[1:]))\n",
    "model.add(Dense(1024, activation='relu'))\n",
    "model.add(Dropout(0.1))\n",
    "model.add(Dense(len(rev_labels), activation='softmax'))\n",
    "\n",
    "sgd = optimizers.SGD(lr=0.0001, decay=1e-6, momentum=0.9, nesterov=True)\n",
    "model.compile(optimizer='sgd',loss='sparse_categorical_crossentropy', metrics=['accuracy'])\n",
    "\n",
    "model.fit(train_data,train_labels,validation_split=0.2,epochs=2,batch_size=1)"
   ]
  },
  {
   "cell_type": "code",
   "execution_count": 22,
   "metadata": {},
   "outputs": [
    {
     "name": "stdout",
     "output_type": "stream",
     "text": [
      "Train on 7984 samples, validate on 1996 samples\n",
      "Epoch 1/2\n",
      "7984/7984 [==============================] - 408s 51ms/step - loss: 8.6019 - acc: 0.3029 - val_loss: 4.6937 - val_acc: 0.3307\n",
      "Epoch 2/2\n",
      "7984/7984 [==============================] - 415s 52ms/step - loss: 4.5046 - acc: 0.3189 - val_loss: 4.3982 - val_acc: 0.3307\n"
     ]
    },
    {
     "data": {
      "text/plain": [
       "<keras.callbacks.History at 0x1e22d3124e0>"
      ]
     },
     "execution_count": 22,
     "metadata": {},
     "output_type": "execute_result"
    }
   ],
   "source": [
    "from keras import regularizers\n",
    "train_data = np.load(open('bottleneck_features_train_res.npy', 'rb'))\n",
    "train_labels = np.array(label_train)\n",
    "\n",
    "\n",
    "validation_data = np.load(open('bottleneck_features_validation_res.npy', 'rb'))\n",
    "validation_labels = np.array(test_lab)\n",
    "    \n",
    "\n",
    "model = Sequential()\n",
    "\n",
    "\n",
    "model.add(Flatten(input_shape=train_data.shape[1:]))\n",
    "model.add(Dense(1024, activation='relu',  kernel_regularizer=regularizers.l2(0.01)))\n",
    "model.add(Dropout(0.1))\n",
    "model.add(Dense(len(rev_labels), activation='softmax'))\n",
    "\n",
    "sgd = optimizers.SGD(lr=0.0001, decay=1e-6, momentum=0.9, nesterov=True)\n",
    "model.compile(optimizer='sgd',loss='sparse_categorical_crossentropy', metrics=['accuracy'])\n",
    "\n",
    "model.fit(train_data,train_labels,validation_split=0.2,epochs=2,batch_size=1)"
   ]
  },
  {
   "cell_type": "code",
   "execution_count": null,
   "metadata": {
    "collapsed": true
   },
   "outputs": [],
   "source": []
  }
 ],
 "metadata": {
  "kernelspec": {
   "display_name": "Python 3",
   "language": "python",
   "name": "python3"
  },
  "language_info": {
   "codemirror_mode": {
    "name": "ipython",
    "version": 3
   },
   "file_extension": ".py",
   "mimetype": "text/x-python",
   "name": "python",
   "nbconvert_exporter": "python",
   "pygments_lexer": "ipython3",
   "version": "3.5.4"
  }
 },
 "nbformat": 4,
 "nbformat_minor": 2
}
