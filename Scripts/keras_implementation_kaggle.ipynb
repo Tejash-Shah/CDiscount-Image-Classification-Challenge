{
 "cells": [
  {
   "cell_type": "code",
   "execution_count": 1,
   "metadata": {},
   "outputs": [
    {
     "name": "stderr",
     "output_type": "stream",
     "text": [
      "Using TensorFlow backend.\n"
     ]
    }
   ],
   "source": [
    "import numpy as np # linear algebra\n",
    "import pandas as pd # data processing, CSV file I/O (e.g. pd.read_csv)\n",
    "from io import BytesIO\n",
    "import cv2\n",
    "import bson\n",
    "from skimage.data import imread\n",
    "import matplotlib.pyplot as plt\n",
    "import keras"
   ]
  },
  {
   "cell_type": "code",
   "execution_count": 17,
   "metadata": {
    "collapsed": true
   },
   "outputs": [],
   "source": [
    "def get_the_data(path):\n",
    "    data = bson.decode_file_iter(open(path, 'rb'))\n",
    "    images=[]\n",
    "    category=[]\n",
    "    for c, d in enumerate(data):\n",
    "        product_id = d['_id']\n",
    "        category_id = d['category_id'] # This won't be in Test data\n",
    "        #prod_to_category[product_id] = category_id\n",
    "        for e, pic in enumerate(d['imgs']):\n",
    "            category.append(category_id)\n",
    "            picture = imread(BytesIO(pic['picture']))\n",
    "            #picture=pic['picture']\n",
    "            images.append(picture)\n",
    "            #break\n",
    "        if(len(set(category))==500):\n",
    "            break\n",
    "    return category, images"
   ]
  },
  {
   "cell_type": "code",
   "execution_count": 18,
   "metadata": {
    "collapsed": true
   },
   "outputs": [],
   "source": [
    "product_category_train,image_train=get_the_data('E:\\\\kaggle\\\\train.bson')"
   ]
  },
  {
   "cell_type": "code",
   "execution_count": 19,
   "metadata": {
    "collapsed": true
   },
   "outputs": [],
   "source": [
    "data_len = len(product_category_train)"
   ]
  },
  {
   "cell_type": "code",
   "execution_count": 20,
   "metadata": {
    "collapsed": true
   },
   "outputs": [],
   "source": [
    "final=np.array(image_train)"
   ]
  },
  {
   "cell_type": "code",
   "execution_count": 21,
   "metadata": {
    "collapsed": true
   },
   "outputs": [],
   "source": [
    "def img2feat(im):\n",
    "    return np.float32(im) / 255\n",
    "\n",
    "final_train=img2feat(final)"
   ]
  },
  {
   "cell_type": "code",
   "execution_count": 22,
   "metadata": {
    "collapsed": true
   },
   "outputs": [],
   "source": [
    "y, rev_labels = pd.factorize(product_category_train)"
   ]
  },
  {
   "cell_type": "code",
   "execution_count": 23,
   "metadata": {},
   "outputs": [
    {
     "data": {
      "text/plain": [
       "4696"
      ]
     },
     "execution_count": 23,
     "metadata": {},
     "output_type": "execute_result"
    }
   ],
   "source": [
    "len(y)"
   ]
  },
  {
   "cell_type": "code",
   "execution_count": 24,
   "metadata": {
    "collapsed": true
   },
   "outputs": [],
   "source": [
    "img_pixel_val_flat = final_train.flatten().reshape(data_len, 97200)"
   ]
  },
  {
   "cell_type": "code",
   "execution_count": 25,
   "metadata": {},
   "outputs": [
    {
     "data": {
      "text/plain": [
       "(array([  0,   1,   2,   3,   4,   5,   6,   7,   8,   9,  10,  11,  12,\n",
       "         13,  14,  15,  16,  17,  18,  19,  20,  21,  22,  23,  24,  25,\n",
       "         26,  27,  28,  29,  30,  31,  32,  33,  34,  35,  36,  37,  38,\n",
       "         39,  40,  41,  42,  43,  44,  45,  46,  47,  48,  49,  50,  51,\n",
       "         52,  53,  54,  55,  56,  57,  58,  59,  60,  61,  62,  63,  64,\n",
       "         65,  66,  67,  68,  69,  70,  71,  72,  73,  74,  75,  76,  77,\n",
       "         78,  79,  80,  81,  82,  83,  84,  85,  86,  87,  88,  89,  90,\n",
       "         91,  92,  93,  94,  95,  96,  97,  98,  99, 100, 101, 102, 103,\n",
       "        104, 105, 106, 107, 108, 109, 110, 111, 112, 113, 114, 115, 116,\n",
       "        117, 118, 119, 120, 121, 122, 123, 124, 125, 126, 127, 128, 129,\n",
       "        130, 131, 132, 133, 134, 135, 136, 137, 138, 139, 140, 141, 142,\n",
       "        143, 144, 145, 146, 147, 148, 149, 150, 151, 152, 153, 154, 155,\n",
       "        156, 157, 158, 159, 160, 161, 162, 163, 164, 165, 166, 167, 168,\n",
       "        169, 170, 171, 172, 173, 174, 175, 176, 177, 178, 179, 180, 181,\n",
       "        182, 183, 184, 185, 186, 187, 188, 189, 190, 191, 192, 193, 194,\n",
       "        195, 196, 197, 198, 199, 200, 201, 202, 203, 204, 205, 206, 207,\n",
       "        208, 209, 210, 211, 212, 213, 214, 215, 216, 217, 218, 219, 220,\n",
       "        221, 222, 223, 224, 225, 226, 227, 228, 229, 230, 231, 232, 233,\n",
       "        234, 235, 236, 237, 238, 239, 240, 241, 242, 243, 244, 245, 246,\n",
       "        247, 248, 249, 250, 251, 252, 253, 254, 255, 256, 257, 258, 259,\n",
       "        260, 261, 262, 263, 264, 265, 266, 267, 268, 269, 270, 271, 272,\n",
       "        273, 274, 275, 276, 277, 278, 279, 280, 281, 282, 283, 284, 285,\n",
       "        286, 287, 288, 289, 290, 291, 292, 293, 294, 295, 296, 297, 298,\n",
       "        299, 300, 301, 302, 303, 304, 305, 306, 307, 308, 309, 310, 311,\n",
       "        312, 313, 314, 315, 316, 317, 318, 319, 320, 321, 322, 323, 324,\n",
       "        325, 326, 327, 328, 329, 330, 331, 332, 333, 334, 335, 336, 337,\n",
       "        338, 339, 340, 341, 342, 343, 344, 345, 346, 347, 348, 349, 350,\n",
       "        351, 352, 353, 354, 355, 356, 357, 358, 359, 360, 361, 362, 363,\n",
       "        364, 365, 366, 367, 368, 369, 370, 371, 372, 373, 374, 375, 376,\n",
       "        377, 378, 379, 380, 381, 382, 383, 384, 385, 386, 387, 388, 389,\n",
       "        390, 391, 392, 393, 394, 395, 396, 397, 398, 399, 400, 401, 402,\n",
       "        403, 404, 405, 406, 407, 408, 409, 410, 411, 412, 413, 414, 415,\n",
       "        416, 417, 418, 419, 420, 421, 422, 423, 424, 425, 426, 427, 428,\n",
       "        429, 430, 431, 432, 433, 434, 435, 436, 437, 438, 439, 440, 441,\n",
       "        442, 443, 444, 445, 446, 447, 448, 449, 450, 451, 452, 453, 454,\n",
       "        455, 456, 457, 458, 459, 460, 461, 462, 463, 464, 465, 466, 467,\n",
       "        468, 469, 470, 471, 472, 473, 474, 475, 476, 477, 478, 479, 480,\n",
       "        481, 482, 483, 484, 485, 486, 487, 488, 489, 490, 491, 492, 493,\n",
       "        494, 495, 496, 497, 498, 499], dtype=int64),\n",
       " array([1620,  170,   94,    1,    1,  604,   11,    5,   10,   64,    1,\n",
       "           9,    7,   10,    9,   30,   12,   43,    7,   25,    1,   65,\n",
       "           1,   46,    1,    4,    6,   12,    7,    9,    2,    7,   35,\n",
       "           2,    9,   99,    1,    1,   29,   12,    6,   10,   29,    1,\n",
       "           3,    6,    1,    2,    2,    2,   15,   31,   11,    5,    1,\n",
       "          48,    1,    1,    2,    1,    2,    4,   37,   34,    3,    1,\n",
       "           1,    1,   15,    1,    2,    8,    1,    1,    5,    1,   16,\n",
       "           2,    1,    5,    2,    4,    6,    6,    5,    2,   17,    4,\n",
       "           1,    1,   20,    3,    4,    1,    1,    2,   10,    5,   15,\n",
       "           1,    1,    5,   13,    4,    1,    1,    6,    1,    9,    3,\n",
       "          17,    2,    8,   11,    4,    1,    8,    1,    1,    1,    1,\n",
       "           5,    1,    1,    2,    4,    1,    1,    2,    5,   21,   29,\n",
       "          23,    1,    9,    6,    7,    1,    2,    4,    8,    5,    1,\n",
       "          14,   17,    7,   26,    4,    1,    3,    2,    1,    1,    2,\n",
       "           8,    1,    2,    3,    8,    1,   10,    6,    3,    1,    4,\n",
       "           1,    4,    1,    4,    4,    1,    1,    4,   10,    5,   38,\n",
       "           2,    3,    1,    7,    2,    6,    1,    1,    4,   16,    1,\n",
       "           8,    4,    2,    2,    4,    1,    1,    2,    1,    3,    1,\n",
       "           1,   16,    4,    1,    4,    1,    2,    1,    1,    1,    5,\n",
       "           1,    4,    1,    2,    4,    1,    1,    3,    4,    9,    1,\n",
       "           6,    1,    2,    5,    5,    3,    1,    1,    2,    9,    1,\n",
       "           1,    3,   13,    1,    1,    4,    1,    2,   10,    8,    4,\n",
       "           1,    3,    1,    1,    1,    4,    1,    2,    4,    1,    1,\n",
       "           1,    4,   10,    1,    4,    1,    2,    1,    1,    1,    2,\n",
       "           1,    7,    1,    1,    1,    2,    8,    6,    2,    1,    2,\n",
       "           2,    2,    1,    4,    3,    1,    2,    4,    4,    1,    3,\n",
       "           6,    7,    1,    1,    6,    1,    1,    6,    2,    1,    2,\n",
       "           1,    1,    2,    1,    1,    3,    4,    1,    1,    1,    1,\n",
       "           2,    1,    3,    1,    1,    1,    1,    1,    1,    1,    1,\n",
       "           3,    3,    4,    1,    3,    4,    1,    1,    1,    3,    1,\n",
       "           1,    1,    2,    1,    1,    4,    3,    1,    1,    1,    3,\n",
       "           1,    2,    2,    1,    1,    2,    1,    2,    2,    1,    4,\n",
       "           2,    2,    2,    1,    2,    1,    1,    4,    4,    1,    3,\n",
       "           2,    2,    3,    4,    1,    1,    2,    1,    1,    4,    1,\n",
       "           1,    1,    1,    6,    1,    1,    1,    1,    1,    1,    4,\n",
       "           1,    1,    1,    1,    1,    1,    1,    1,    4,    1,    2,\n",
       "           4,    4,    2,    2,    2,    3,    3,    3,    1,    2,    2,\n",
       "           2,    3,    1,    2,    1,    4,    1,    3,    3,    2,    1,\n",
       "           3,    4,    1,    1,    4,    2,    1,    4,    1,    1,    1,\n",
       "           2,    1,    4,    1,    1,    1,    1,    1,    1,    1,    4,\n",
       "           1,    1,    1,    1,    2,    1,    1,    1,    1,    3,    3,\n",
       "           1,    1,    4,    6,    1,    1,    1,    4,    1,    1,    4,\n",
       "           4,    2,    1,    4,    3,    1,    1,    1,    4,    1,    3,\n",
       "           1,    2,    2,    1,    1,    4,    3,    1,    2,    8,    3,\n",
       "           3,    1,    1,    1,    2,    2,    2,    1,    1,    2,    1,\n",
       "           1,    1,    1,    1,    3], dtype=int64))"
      ]
     },
     "execution_count": 25,
     "metadata": {},
     "output_type": "execute_result"
    }
   ],
   "source": [
    "np.unique(y, return_counts=True)"
   ]
  },
  {
   "cell_type": "code",
   "execution_count": 26,
   "metadata": {
    "collapsed": true
   },
   "outputs": [],
   "source": [
    "from sklearn.utils import shuffle\n",
    "\n",
    "im_train,lab_train=shuffle(final_train,y)\n",
    "test_im=im_train[4600:]\n",
    "test_lab=lab_train[4600:]\n",
    "image_train=im_train[:4600]\n",
    "label_train=lab_train[:4600]"
   ]
  },
  {
   "cell_type": "code",
   "execution_count": 27,
   "metadata": {
    "collapsed": true
   },
   "outputs": [],
   "source": [
    "from keras.layers import Conv2D, MaxPooling2D,Dropout,Dense, Flatten\n",
    "from keras.models import Sequential\n",
    "from keras.optimizers import Adam\n",
    "from keras import regularizers"
   ]
  },
  {
   "cell_type": "code",
   "execution_count": 28,
   "metadata": {
    "collapsed": true
   },
   "outputs": [],
   "source": [
    "model=Sequential()\n",
    "\n",
    "model.add(Conv2D(16,3,activation='relu',input_shape=(180,180,3)))\n",
    "model.add(Conv2D(16,3,activation='relu', kernel_regularizer=regularizers.l2(0.01)))\n",
    "model.add(MaxPooling2D(2))\n",
    "model.add(Dropout(0.2))\n",
    "\n",
    "model.add(Conv2D(16,3,activation='relu', kernel_regularizer=regularizers.l2(0.01)))\n",
    "model.add(Conv2D(16,3,activation='relu', kernel_regularizer=regularizers.l2(0.01)))\n",
    "model.add(MaxPooling2D(2))\n",
    "model.add(Dropout(0.2))\n",
    "\n",
    "model.add(Conv2D(32,3,activation='relu', kernel_regularizer=regularizers.l2(0.01)))\n",
    "model.add(Conv2D(32,3,activation='relu', kernel_regularizer=regularizers.l2(0.01)))\n",
    "model.add(MaxPooling2D(2))\n",
    "model.add(Dropout(0.2))\n",
    "\n",
    "model.add(Conv2D(32,3,activation='relu', kernel_regularizer=regularizers.l2(0.01)))\n",
    "model.add(Conv2D(32,3,activation='relu', kernel_regularizer=regularizers.l2(0.01)))\n",
    "model.add(MaxPooling2D(2))\n",
    "model.add(Dropout(0.2))\n",
    "\n",
    "\n",
    "model.add(Conv2D(64,3,activation='relu', kernel_regularizer=regularizers.l2(0.01)))\n",
    "model.add(Conv2D(64,3,activation='relu', kernel_regularizer=regularizers.l2(0.01)))\n",
    "model.add(MaxPooling2D(2))\n",
    "model.add(Dropout(0.2))\n",
    "\n",
    "\n",
    "model.add(Flatten())\n",
    "model.add(Dense(1024, activation='relu', kernel_regularizer=regularizers.l2(0.01)))\n",
    "model.add(Dropout(0.1))\n",
    "model.add(Dense(1024, activation='relu', kernel_regularizer=regularizers.l2(0.01)))\n",
    "model.add(Dropout(0.1))\n",
    "model.add(Dense(len(rev_labels),activation='softmax'))"
   ]
  },
  {
   "cell_type": "code",
   "execution_count": 29,
   "metadata": {
    "collapsed": true
   },
   "outputs": [],
   "source": [
    "from keras import optimizers\n",
    "model.compile(loss='sparse_categorical_crossentropy',\n",
    "              optimizer=optimizers.SGD(lr=1e-4, momentum=0.9),\n",
    "              metrics=['accuracy'])"
   ]
  },
  {
   "cell_type": "code",
   "execution_count": 30,
   "metadata": {},
   "outputs": [
    {
     "name": "stdout",
     "output_type": "stream",
     "text": [
      "Train on 3680 samples, validate on 920 samples\n",
      "Epoch 1/15\n",
      "3680/3680 [==============================] - 502s 137ms/step - loss: 20.3420 - acc: 0.0062 - val_loss: 20.3094 - val_acc: 0.3402\n",
      "Epoch 2/15\n",
      "3680/3680 [==============================] - 765s 208ms/step - loss: 20.2816 - acc: 0.2649 - val_loss: 20.2511 - val_acc: 0.3402\n",
      "Epoch 3/15\n",
      "3680/3680 [==============================] - 491s 133ms/step - loss: 20.2212 - acc: 0.3443 - val_loss: 20.1933 - val_acc: 0.3402\n",
      "Epoch 4/15\n",
      "3680/3680 [==============================] - 487s 132ms/step - loss: 20.1603 - acc: 0.3446 - val_loss: 20.1352 - val_acc: 0.3402\n",
      "Epoch 5/15\n",
      "3680/3680 [==============================] - 499s 136ms/step - loss: 20.0995 - acc: 0.3446 - val_loss: 20.0763 - val_acc: 0.3402\n",
      "Epoch 6/15\n",
      "3680/3680 [==============================] - 829s 225ms/step - loss: 20.0369 - acc: 0.3446 - val_loss: 20.0163 - val_acc: 0.3402\n",
      "Epoch 7/15\n",
      "3680/3680 [==============================] - 594s 161ms/step - loss: 19.9718 - acc: 0.3446 - val_loss: 19.9542 - val_acc: 0.3402\n",
      "Epoch 8/15\n",
      "3680/3680 [==============================] - 249s 68ms/step - loss: 19.9015 - acc: 0.3446 - val_loss: 19.8875 - val_acc: 0.3402\n",
      "Epoch 9/15\n",
      "3680/3680 [==============================] - 522s 142ms/step - loss: 19.8157 - acc: 0.3446 - val_loss: 19.8068 - val_acc: 0.3402\n",
      "Epoch 10/15\n",
      "3680/3680 [==============================] - 271s 74ms/step - loss: 19.6574 - acc: 0.3446 - val_loss: 19.6230 - val_acc: 0.3402\n",
      "Epoch 11/15\n",
      "3680/3680 [==============================] - 454s 123ms/step - loss: 18.7353 - acc: 0.3446 - val_loss: 18.5227 - val_acc: 0.3402\n",
      "Epoch 12/15\n",
      "3680/3680 [==============================] - 487s 132ms/step - loss: 18.1173 - acc: 0.3418 - val_loss: 18.3845 - val_acc: 0.3402\n",
      "Epoch 13/15\n",
      "3680/3680 [==============================] - 467s 127ms/step - loss: 17.9672 - acc: 0.3421 - val_loss: 18.2250 - val_acc: 0.3402\n",
      "Epoch 14/15\n",
      "3680/3680 [==============================] - 581s 158ms/step - loss: 17.8578 - acc: 0.3429 - val_loss: 18.2416 - val_acc: 0.3402\n",
      "Epoch 15/15\n",
      "3680/3680 [==============================] - 711s 193ms/step - loss: 17.7853 - acc: 0.3405 - val_loss: 18.1476 - val_acc: 0.3402\n"
     ]
    },
    {
     "data": {
      "text/plain": [
       "<keras.callbacks.History at 0x16eb99cffd0>"
      ]
     },
     "execution_count": 30,
     "metadata": {},
     "output_type": "execute_result"
    }
   ],
   "source": [
    "model.fit(image_train,label_train,validation_split=0.2,epochs=15,batch_size=50)"
   ]
  },
  {
   "cell_type": "code",
   "execution_count": 31,
   "metadata": {
    "collapsed": true
   },
   "outputs": [],
   "source": [
    "pred=model.predict(test_im)"
   ]
  },
  {
   "cell_type": "code",
   "execution_count": 32,
   "metadata": {
    "collapsed": true
   },
   "outputs": [],
   "source": [
    "acc=[]\n",
    "for i in pred:\n",
    "    acc.append(np.argmax(i))"
   ]
  },
  {
   "cell_type": "code",
   "execution_count": 33,
   "metadata": {
    "collapsed": true
   },
   "outputs": [],
   "source": [
    "from sklearn.metrics import accuracy_score\n",
    "accuracy=accuracy_score(acc,test_lab)"
   ]
  },
  {
   "cell_type": "code",
   "execution_count": 34,
   "metadata": {},
   "outputs": [
    {
     "data": {
      "text/plain": [
       "0.40625"
      ]
     },
     "execution_count": 34,
     "metadata": {},
     "output_type": "execute_result"
    }
   ],
   "source": [
    "accuracy"
   ]
  },
  {
   "cell_type": "code",
   "execution_count": 36,
   "metadata": {},
   "outputs": [
    {
     "name": "stderr",
     "output_type": "stream",
     "text": [
      "C:\\Users\\saish\\Anaconda2\\envs\\tensorflow\\lib\\site-packages\\sklearn\\metrics\\classification.py:1137: UndefinedMetricWarning: Recall is ill-defined and being set to 0.0 in labels with no true samples.\n",
      "  'recall', 'true', average, warn_for)\n"
     ]
    }
   ],
   "source": [
    "from sklearn.metrics import recall_score\n",
    "recall=recall_score(acc,test_lab, average='weighted')"
   ]
  },
  {
   "cell_type": "code",
   "execution_count": 37,
   "metadata": {},
   "outputs": [
    {
     "data": {
      "text/plain": [
       "0.40625"
      ]
     },
     "execution_count": 37,
     "metadata": {},
     "output_type": "execute_result"
    }
   ],
   "source": [
    "recall"
   ]
  },
  {
   "cell_type": "code",
   "execution_count": 38,
   "metadata": {
    "collapsed": true
   },
   "outputs": [],
   "source": [
    "from sklearn.metrics import precision_score\n",
    "pre=precision_score(acc,test_lab, average='weighted')"
   ]
  },
  {
   "cell_type": "code",
   "execution_count": 39,
   "metadata": {},
   "outputs": [
    {
     "data": {
      "text/plain": [
       "1.0"
      ]
     },
     "execution_count": 39,
     "metadata": {},
     "output_type": "execute_result"
    }
   ],
   "source": [
    "pre"
   ]
  },
  {
   "cell_type": "code",
   "execution_count": null,
   "metadata": {
    "collapsed": true
   },
   "outputs": [],
   "source": []
  }
 ],
 "metadata": {
  "kernelspec": {
   "display_name": "Python 3",
   "language": "python",
   "name": "python3"
  },
  "language_info": {
   "codemirror_mode": {
    "name": "ipython",
    "version": 3
   },
   "file_extension": ".py",
   "mimetype": "text/x-python",
   "name": "python",
   "nbconvert_exporter": "python",
   "pygments_lexer": "ipython3",
   "version": "3.5.4"
  }
 },
 "nbformat": 4,
 "nbformat_minor": 2
}
