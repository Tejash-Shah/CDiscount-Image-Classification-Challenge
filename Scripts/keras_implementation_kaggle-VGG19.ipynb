{
 "cells": [
  {
   "cell_type": "code",
   "execution_count": 1,
   "metadata": {},
   "outputs": [
    {
     "name": "stderr",
     "output_type": "stream",
     "text": [
      "Using TensorFlow backend.\n"
     ]
    }
   ],
   "source": [
    "import numpy as np # linear algebra\n",
    "import pandas as pd # data processing, CSV file I/O (e.g. pd.read_csv)\n",
    "from io import BytesIO\n",
    "import cv2\n",
    "import bson\n",
    "from skimage.data import imread\n",
    "import matplotlib.pyplot as plt\n",
    "import keras\n",
    "from PIL import Image\n",
    "import io, bson, multiprocessing\n",
    "import os\n",
    "from keras import applications\n",
    "from keras.preprocessing.image import ImageDataGenerator\n",
    "from keras import optimizers\n",
    "from keras.models import Sequential\n",
    "from keras.layers import Dropout, Flatten, Dense"
   ]
  },
  {
   "cell_type": "code",
   "execution_count": 2,
   "metadata": {
    "collapsed": true
   },
   "outputs": [],
   "source": [
    "def get_the_data(path):\n",
    "    data = bson.decode_file_iter(open(path, 'rb'))\n",
    "    images=[]\n",
    "    category=[]\n",
    "    for c, d in enumerate(data):\n",
    "        product_id = d['_id']\n",
    "        category_id = d['category_id'] \n",
    "        for e, pic in enumerate(d['imgs']):\n",
    "            category.append(category_id)\n",
    "            im=pic['picture']\n",
    "            images.append(Image.open(io.BytesIO(im)))\n",
    "        if(len(set(category))==860):\n",
    "            break\n",
    "    return category, images"
   ]
  },
  {
   "cell_type": "code",
   "execution_count": 3,
   "metadata": {
    "collapsed": true
   },
   "outputs": [],
   "source": [
    "product_category_train,image_train=get_the_data('E:\\\\kaggle\\\\train.bson')"
   ]
  },
  {
   "cell_type": "code",
   "execution_count": 4,
   "metadata": {
    "collapsed": true
   },
   "outputs": [],
   "source": [
    "y, rev_labels = pd.factorize(product_category_train)"
   ]
  },
  {
   "cell_type": "code",
   "execution_count": 5,
   "metadata": {},
   "outputs": [
    {
     "data": {
      "text/plain": [
       "9998"
      ]
     },
     "execution_count": 5,
     "metadata": {},
     "output_type": "execute_result"
    }
   ],
   "source": [
    "len(y)"
   ]
  },
  {
   "cell_type": "code",
   "execution_count": 6,
   "metadata": {
    "collapsed": true
   },
   "outputs": [],
   "source": [
    "from sklearn.utils import shuffle\n",
    "im_train,lab_train=shuffle(image_train,y)\n",
    "test_im=im_train[9980:]\n",
    "test_lab=lab_train[9980:]\n",
    "image_train=im_train[:9980]\n",
    "label_train=lab_train[:9980]"
   ]
  },
  {
   "cell_type": "code",
   "execution_count": 7,
   "metadata": {
    "collapsed": true
   },
   "outputs": [],
   "source": [
    "len_train = len(image_train)\n",
    "len_test = len(test_im)"
   ]
  },
  {
   "cell_type": "code",
   "execution_count": 8,
   "metadata": {
    "collapsed": true
   },
   "outputs": [],
   "source": [
    "len_cat = len(image_train)\n",
    "#\n",
    "cnt = 0\n",
    "flag=0\n",
    "for i in range(len_cat):\n",
    "        if i == 0:\n",
    "            n = label_train[i]\n",
    "            #print('cat', n)\n",
    "            dir_ = 'C:\\\\Users\\\\saish\\\\Documents\\\\EE258\\\\test\\\\train'\n",
    "            pathname = os.path.join(dir_, str(n))\n",
    "            if not os.path.exists(pathname):\n",
    "                  os.makedirs(pathname)\n",
    "            os.chdir(pathname)\n",
    "            d = image_train[i]\n",
    "            d.save(\"{0}.jpg\".format(str(cnt)))\n",
    "        if i != 0:      \n",
    "            if((label_train[i])!=(label_train[i-1])):\n",
    "                n = label_train[i]\n",
    "                #print('cat', n)\n",
    "                dir_ = 'C:\\\\Users\\\\saish\\\\Documents\\\\EE258\\\\test\\\\train'\n",
    "                pathname = os.path.join(dir_, str(n))  \n",
    "                if not os.path.exists(pathname):\n",
    "                      os.makedirs(pathname)\n",
    "                os.chdir(pathname)\n",
    "                d = image_train[i]\n",
    "                d.save(\"{0}.jpg\".format(str(cnt)))\n",
    "            if((label_train[i])==(label_train[i-1])):\n",
    "                  n = label_train[i]\n",
    "                  #print('cat', n)\n",
    "                  d = image_train[i]\n",
    "                  d.save(\"{0}.jpg\".format(str(cnt)))\n",
    "                \n",
    "        cnt +=1"
   ]
  },
  {
   "cell_type": "code",
   "execution_count": 9,
   "metadata": {
    "collapsed": true
   },
   "outputs": [],
   "source": [
    "len_cat = len(test_im)\n",
    "#\n",
    "cnt = 0\n",
    "flag=0\n",
    "for i in range(len_cat):\n",
    "        if i == 0:\n",
    "            n = test_lab[i]\n",
    "            #print('cat', n)\n",
    "            dir_ = 'C:\\\\Users\\\\saish\\\\Documents\\\\EE258\\\\test\\\\test'\n",
    "            pathname = os.path.join(dir_, str(n))\n",
    "            if not os.path.exists(pathname):\n",
    "                  os.makedirs(pathname)\n",
    "            os.chdir(pathname)\n",
    "            d = test_im[i]\n",
    "            d.save(\"{0}.jpg\".format(str(cnt)))\n",
    "        if i != 0:      \n",
    "            if((test_lab[i])!=(test_lab[i-1])):\n",
    "                n = test_lab[i]\n",
    "                #print('cat', n)\n",
    "                dir_ = 'C:\\\\Users\\\\saish\\\\Documents\\\\EE258\\\\test\\\\test'\n",
    "                pathname = os.path.join(dir_, str(n))  \n",
    "                if not os.path.exists(pathname):\n",
    "                      os.makedirs(pathname)\n",
    "                os.chdir(pathname)\n",
    "                d = test_im[i]\n",
    "                d.save(\"{0}.jpg\".format(str(cnt)))\n",
    "            if((test_lab[i])==(test_lab[i-1])):\n",
    "                  n = test_lab[i]\n",
    "                  #print('cat', n)\n",
    "                  d = test_im[i]\n",
    "                  d.save(\"{0}.jpg\".format(str(cnt)))\n",
    "                \n",
    "        cnt +=1"
   ]
  },
  {
   "cell_type": "markdown",
   "metadata": {},
   "source": [
    "# KERAS VGG19\n"
   ]
  },
  {
   "cell_type": "code",
   "execution_count": 8,
   "metadata": {
    "collapsed": true
   },
   "outputs": [],
   "source": [
    "img_width, img_height = 180, 180\n",
    "top_model_weights_path = 'bottleneck_fc_model_vgg19.h5'\n",
    "train_data_dir = 'C:\\\\Users\\\\saish\\\\Documents\\\\EE258\\\\test\\\\train'\n",
    "validation_data_dir = 'C:\\\\Users\\\\saish\\\\Documents\\\\EE258\\\\test\\\\test'\n",
    "nb_train_samples = len_train\n",
    "nb_validation_samples = len_test\n",
    "epochs = 50\n",
    "batch_size = 1"
   ]
  },
  {
   "cell_type": "code",
   "execution_count": 9,
   "metadata": {
    "collapsed": true
   },
   "outputs": [],
   "source": [
    "def save_bottlebeck_features():\n",
    "    datagen = ImageDataGenerator(rescale=1. / 255)\n",
    "\n",
    "    # build the VGG16 network\n",
    "    model = applications.VGG19(include_top=False, weights='imagenet')\n",
    "\n",
    "    generator = datagen.flow_from_directory(\n",
    "        train_data_dir,\n",
    "        target_size=(img_width, img_height),\n",
    "        batch_size=batch_size,\n",
    "        class_mode=None,\n",
    "        shuffle=False)\n",
    "    bottleneck_features_train = model.predict_generator(\n",
    "        generator, nb_train_samples // batch_size)\n",
    "    np.save(open('bottleneck_features_train_vgg19.npy', 'wb'),\n",
    "            bottleneck_features_train)\n",
    "\n",
    "    generator = datagen.flow_from_directory(\n",
    "        validation_data_dir,\n",
    "        target_size=(img_width, img_height),\n",
    "        batch_size=batch_size,\n",
    "        class_mode=None,\n",
    "        shuffle=False)\n",
    "    bottleneck_features_validation = model.predict_generator(\n",
    "        generator, nb_validation_samples // batch_size)\n",
    "    np.save(open('bottleneck_features_validation_vgg19.npy', 'wb'),\n",
    "            bottleneck_features_validation)"
   ]
  },
  {
   "cell_type": "code",
   "execution_count": 10,
   "metadata": {},
   "outputs": [
    {
     "name": "stdout",
     "output_type": "stream",
     "text": [
      "Downloading data from https://github.com/fchollet/deep-learning-models/releases/download/v0.1/vgg19_weights_tf_dim_ordering_tf_kernels_notop.h5\n",
      "80142336/80134624 [==============================] - 11s 0us/step\n",
      "Found 9980 images belonging to 859 classes.\n",
      "Found 18 images belonging to 10 classes.\n"
     ]
    }
   ],
   "source": [
    "save_bottlebeck_features()"
   ]
  },
  {
   "cell_type": "code",
   "execution_count": 12,
   "metadata": {},
   "outputs": [
    {
     "name": "stdout",
     "output_type": "stream",
     "text": [
      "Train on 7984 samples, validate on 1996 samples\n",
      "Epoch 1/3\n",
      "7984/7984 [==============================] - 328s 41ms/step - loss: 4.7500 - acc: 0.3283 - val_loss: 4.2435 - val_acc: 0.3312\n",
      "Epoch 2/3\n",
      "7984/7984 [==============================] - 339s 42ms/step - loss: 4.7428 - acc: 0.3328 - val_loss: 5.3041 - val_acc: 0.3312\n",
      "Epoch 3/3\n",
      "7984/7984 [==============================] - 548s 69ms/step - loss: 5.7871 - acc: 0.3325 - val_loss: 6.2498 - val_acc: 0.3312\n"
     ]
    }
   ],
   "source": [
    "\n",
    "train_data = np.load(open('bottleneck_features_train_vgg19.npy', 'rb'))\n",
    "train_labels = np.array(label_train)\n",
    "\n",
    "\n",
    "validation_data = np.load(open('bottleneck_features_validation_vgg19.npy', 'rb'))\n",
    "validation_labels = np.array(test_lab)\n",
    "    \n",
    "\n",
    "model = Sequential()\n",
    "model.add(Flatten(input_shape=train_data.shape[1:]))\n",
    "model.add(Dense(256, activation='relu'))\n",
    "model.add(Dropout(0.5))\n",
    "model.add(Dense(len(rev_labels), activation='softmax'))\n",
    "\n",
    "model.compile(optimizer='rmsprop',loss='sparse_categorical_crossentropy', metrics=['accuracy'])\n",
    "\n",
    "model.fit(train_data,train_labels,validation_split=0.2,epochs=3,batch_size=1)\n",
    "    \n",
    "model.save_weights(top_model_weights_path)\n"
   ]
  },
  {
   "cell_type": "code",
   "execution_count": 14,
   "metadata": {},
   "outputs": [
    {
     "name": "stdout",
     "output_type": "stream",
     "text": [
      "Train on 7984 samples, validate on 1996 samples\n",
      "Epoch 1/3\n",
      "7984/7984 [==============================] - 630s 79ms/step - loss: 10.2570 - acc: 0.3275 - val_loss: 10.7805 - val_acc: 0.3312\n",
      "Epoch 2/3\n",
      "7984/7984 [==============================] - 638s 80ms/step - loss: 10.1085 - acc: 0.3325 - val_loss: 10.7805 - val_acc: 0.3312\n",
      "Epoch 3/3\n",
      "7984/7984 [==============================] - 644s 81ms/step - loss: 10.0884 - acc: 0.3325 - val_loss: 10.7805 - val_acc: 0.3312\n"
     ]
    },
    {
     "data": {
      "text/plain": [
       "<keras.callbacks.History at 0x2a221286860>"
      ]
     },
     "execution_count": 14,
     "metadata": {},
     "output_type": "execute_result"
    }
   ],
   "source": [
    "train_data = np.load(open('bottleneck_features_train_vgg19.npy', 'rb'))\n",
    "train_labels = np.array(label_train)\n",
    "\n",
    "\n",
    "validation_data = np.load(open('bottleneck_features_validation_vgg19.npy', 'rb'))\n",
    "validation_labels = np.array(test_lab)\n",
    "    \n",
    "\n",
    "model = Sequential()\n",
    "model.add(Flatten(input_shape=train_data.shape[1:]))\n",
    "model.add(Dense(500, activation='relu'))\n",
    "model.add(Dropout(0.5))\n",
    "model.add(Dense(len(rev_labels), activation='softmax'))\n",
    "\n",
    "model.compile(optimizer='sgd',loss='sparse_categorical_crossentropy', metrics=['accuracy'])\n",
    "\n",
    "model.fit(train_data,train_labels,validation_split=0.2,epochs=3,batch_size=1)\n",
    "    \n"
   ]
  },
  {
   "cell_type": "code",
   "execution_count": 15,
   "metadata": {},
   "outputs": [
    {
     "name": "stdout",
     "output_type": "stream",
     "text": [
      "Train on 7984 samples, validate on 1996 samples\n",
      "Epoch 1/2\n",
      "7984/7984 [==============================] - 1171s 147ms/step - loss: 4.9018 - acc: 0.3096 - val_loss: 4.4653 - val_acc: 0.3312\n",
      "Epoch 2/2\n",
      "7984/7984 [==============================] - 1179s 148ms/step - loss: 4.3440 - acc: 0.3318 - val_loss: 4.3048 - val_acc: 0.3312\n"
     ]
    },
    {
     "data": {
      "text/plain": [
       "<keras.callbacks.History at 0x2a22605b8d0>"
      ]
     },
     "execution_count": 15,
     "metadata": {},
     "output_type": "execute_result"
    }
   ],
   "source": [
    "train_data = np.load(open('bottleneck_features_train_vgg19.npy', 'rb'))\n",
    "train_labels = np.array(label_train)\n",
    "\n",
    "\n",
    "validation_data = np.load(open('bottleneck_features_validation_vgg19.npy', 'rb'))\n",
    "validation_labels = np.array(test_lab)\n",
    "    \n",
    "\n",
    "model = Sequential()\n",
    "model.add(Flatten(input_shape=train_data.shape[1:]))\n",
    "model.add(Dense(1024, activation='relu'))\n",
    "model.add(Dropout(0.1))\n",
    "model.add(Dense(len(rev_labels), activation='softmax'))\n",
    "\n",
    "model.compile(optimizer='sgd',loss='sparse_categorical_crossentropy', metrics=['accuracy'])\n",
    "\n",
    "model.fit(train_data,train_labels,validation_split=0.2,epochs=2,batch_size=1)"
   ]
  },
  {
   "cell_type": "code",
   "execution_count": 17,
   "metadata": {},
   "outputs": [
    {
     "name": "stdout",
     "output_type": "stream",
     "text": [
      "Train on 7984 samples, validate on 1996 samples\n",
      "Epoch 1/2\n",
      "7984/7984 [==============================] - 1146s 143ms/step - loss: 4.9059 - acc: 0.3066 - val_loss: 4.4667 - val_acc: 0.3312\n",
      "Epoch 2/2\n",
      "7984/7984 [==============================] - 1167s 146ms/step - loss: 4.3421 - acc: 0.3328 - val_loss: 4.3037 - val_acc: 0.3312\n"
     ]
    },
    {
     "data": {
      "text/plain": [
       "<keras.callbacks.History at 0x2a2045e8f60>"
      ]
     },
     "execution_count": 17,
     "metadata": {},
     "output_type": "execute_result"
    }
   ],
   "source": [
    "train_data = np.load(open('bottleneck_features_train_vgg19.npy', 'rb'))\n",
    "train_labels = np.array(label_train)\n",
    "\n",
    "\n",
    "validation_data = np.load(open('bottleneck_features_validation_vgg19.npy', 'rb'))\n",
    "validation_labels = np.array(test_lab)\n",
    "    \n",
    "\n",
    "model = Sequential()\n",
    "model.add(Flatten(input_shape=train_data.shape[1:]))\n",
    "model.add(Dense(1024, activation='relu'))\n",
    "model.add(Dropout(0.1))\n",
    "model.add(Dense(len(rev_labels), activation='softmax'))\n",
    "\n",
    "sgd = optimizers.SGD(lr=0.0001, decay=1e-6, momentum=0.9, nesterov=True)\n",
    "model.compile(optimizer='sgd',loss='sparse_categorical_crossentropy', metrics=['accuracy'])\n",
    "\n",
    "model.fit(train_data,train_labels,validation_split=0.2,epochs=2,batch_size=1)"
   ]
  },
  {
   "cell_type": "code",
   "execution_count": 28,
   "metadata": {},
   "outputs": [
    {
     "name": "stdout",
     "output_type": "stream",
     "text": [
      "Train on 7984 samples, validate on 1996 samples\n",
      "Epoch 1/2\n",
      "7984/7984 [==============================] - 2022s 253ms/step - loss: 10.6409 - acc: 0.3080 - val_loss: 5.2484 - val_acc: 0.3312\n",
      "Epoch 2/2\n",
      "7984/7984 [==============================] - 2316s 290ms/step - loss: 4.5765 - acc: 0.3325 - val_loss: 4.3332 - val_acc: 0.3312\n"
     ]
    },
    {
     "data": {
      "text/plain": [
       "<keras.callbacks.History at 0x2a208431d68>"
      ]
     },
     "execution_count": 28,
     "metadata": {},
     "output_type": "execute_result"
    }
   ],
   "source": [
    "from keras import regularizers\n",
    "train_data = np.load(open('bottleneck_features_train_vgg19.npy', 'rb'))\n",
    "train_labels = np.array(label_train)\n",
    "\n",
    "\n",
    "validation_data = np.load(open('bottleneck_features_validation_vgg19.npy', 'rb'))\n",
    "validation_labels = np.array(test_lab)\n",
    "    \n",
    "\n",
    "model = Sequential()\n",
    "model.add(Flatten(input_shape=train_data.shape[1:]))\n",
    "model.add(Dense(1024, activation='relu', kernel_regularizer=regularizers.l2(0.01)))\n",
    "model.add(Dropout(0.1))\n",
    "model.add(Dense(len(rev_labels), activation='softmax'))\n",
    "\n",
    "sgd = optimizers.SGD(lr=0.0001, decay=1e-6, momentum=0.9, nesterov=True)\n",
    "model.compile(optimizer='sgd',loss='sparse_categorical_crossentropy', metrics=['accuracy'])\n",
    "\n",
    "model.fit(train_data,train_labels,validation_split=0.2,epochs=2,batch_size=1)"
   ]
  },
  {
   "cell_type": "code",
   "execution_count": null,
   "metadata": {
    "collapsed": true
   },
   "outputs": [],
   "source": []
  }
 ],
 "metadata": {
  "kernelspec": {
   "display_name": "Python 3",
   "language": "python",
   "name": "python3"
  },
  "language_info": {
   "codemirror_mode": {
    "name": "ipython",
    "version": 3
   },
   "file_extension": ".py",
   "mimetype": "text/x-python",
   "name": "python",
   "nbconvert_exporter": "python",
   "pygments_lexer": "ipython3",
   "version": "3.5.4"
  }
 },
 "nbformat": 4,
 "nbformat_minor": 2
}
